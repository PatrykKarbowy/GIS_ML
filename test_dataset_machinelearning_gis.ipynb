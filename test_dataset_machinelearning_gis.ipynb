{
  "nbformat": 4,
  "nbformat_minor": 0,
  "metadata": {
    "colab": {
      "provenance": [],
      "gpuType": "T4"
    },
    "kernelspec": {
      "name": "python3",
      "display_name": "Python 3"
    },
    "language_info": {
      "name": "python"
    },
    "accelerator": "GPU"
  },
  "cells": [
    {
      "cell_type": "markdown",
      "source": [
        "## 1. ENVIR PREPARATION"
      ],
      "metadata": {
        "id": "STLgkCwDazI-"
      }
    },
    {
      "cell_type": "code",
      "source": [
        "#Additional pip installs\n",
        "!pip install rasterio pyproj"
      ],
      "metadata": {
        "colab": {
          "base_uri": "https://localhost:8080/"
        },
        "id": "bbOjVZK3Zzpp",
        "outputId": "b521f54d-5090-41b1-954d-a84faaed634c"
      },
      "execution_count": null,
      "outputs": [
        {
          "output_type": "stream",
          "name": "stdout",
          "text": [
            "Looking in indexes: https://pypi.org/simple, https://us-python.pkg.dev/colab-wheels/public/simple/\n",
            "Collecting rasterio\n",
            "  Downloading rasterio-1.3.7-cp310-cp310-manylinux_2_17_x86_64.manylinux2014_x86_64.whl (21.3 MB)\n",
            "\u001b[2K     \u001b[90m━━━━━━━━━━━━━━━━━━━━━━━━━━━━━━━━━━━━━━━━\u001b[0m \u001b[32m21.3/21.3 MB\u001b[0m \u001b[31m57.3 MB/s\u001b[0m eta \u001b[36m0:00:00\u001b[0m\n",
            "\u001b[?25hCollecting pyproj\n",
            "  Downloading pyproj-3.6.0-cp310-cp310-manylinux_2_17_x86_64.manylinux2014_x86_64.whl (7.9 MB)\n",
            "\u001b[2K     \u001b[90m━━━━━━━━━━━━━━━━━━━━━━━━━━━━━━━━━━━━━━━━\u001b[0m \u001b[32m7.9/7.9 MB\u001b[0m \u001b[31m63.6 MB/s\u001b[0m eta \u001b[36m0:00:00\u001b[0m\n",
            "\u001b[?25hCollecting affine (from rasterio)\n",
            "  Downloading affine-2.4.0-py3-none-any.whl (15 kB)\n",
            "Requirement already satisfied: attrs in /usr/local/lib/python3.10/dist-packages (from rasterio) (23.1.0)\n",
            "Requirement already satisfied: certifi in /usr/local/lib/python3.10/dist-packages (from rasterio) (2023.5.7)\n",
            "Requirement already satisfied: click>=4.0 in /usr/local/lib/python3.10/dist-packages (from rasterio) (8.1.3)\n",
            "Collecting cligj>=0.5 (from rasterio)\n",
            "  Downloading cligj-0.7.2-py3-none-any.whl (7.1 kB)\n",
            "Requirement already satisfied: numpy>=1.18 in /usr/local/lib/python3.10/dist-packages (from rasterio) (1.22.4)\n",
            "Collecting snuggs>=1.4.1 (from rasterio)\n",
            "  Downloading snuggs-1.4.7-py3-none-any.whl (5.4 kB)\n",
            "Collecting click-plugins (from rasterio)\n",
            "  Downloading click_plugins-1.1.1-py2.py3-none-any.whl (7.5 kB)\n",
            "Requirement already satisfied: setuptools in /usr/local/lib/python3.10/dist-packages (from rasterio) (67.7.2)\n",
            "Requirement already satisfied: pyparsing>=2.1.6 in /usr/local/lib/python3.10/dist-packages (from snuggs>=1.4.1->rasterio) (3.1.0)\n",
            "Installing collected packages: snuggs, pyproj, cligj, click-plugins, affine, rasterio\n",
            "Successfully installed affine-2.4.0 click-plugins-1.1.1 cligj-0.7.2 pyproj-3.6.0 rasterio-1.3.7 snuggs-1.4.7\n"
          ]
        }
      ]
    },
    {
      "cell_type": "code",
      "source": [
        "#Libraries used in project\n",
        "import os\n",
        "import joblib\n",
        "import datetime\n",
        "import numpy as np\n",
        "import pandas as pd\n",
        "\n",
        "#Model\n",
        "from sklearn.ensemble import RandomForestClassifier\n",
        "from sklearn.metrics import confusion_matrix, accuracy_score, roc_auc_score\n",
        "from sklearn.metrics import classification_report, roc_curve, auc\n",
        "from sklearn.metrics import ConfusionMatrixDisplay\n",
        "from sklearn.model_selection import train_test_split\n",
        "from sklearn.model_selection import GridSearchCV\n",
        "\n",
        "# Visualization\n",
        "import seaborn as sns\n",
        "import matplotlib.pyplot as plt\n",
        "import warnings\n",
        "\n",
        "# Geospatial related imports\n",
        "import rasterio as rio\n",
        "\n",
        "plt.style.use('fivethirtyeight')\n",
        "warnings.filterwarnings('ignore')\n",
        "%matplotlib inline"
      ],
      "metadata": {
        "id": "tkbbQh1LZ4zF"
      },
      "execution_count": null,
      "outputs": []
    },
    {
      "cell_type": "markdown",
      "source": [
        "## 2. GENERAL VARIABLES"
      ],
      "metadata": {
        "id": "n958loS1bBDA"
      }
    },
    {
      "cell_type": "code",
      "source": [
        "# directory where we will output figures\n",
        "FIGURE_OUTPUT_DIR = 'output/figures'\n",
        "\n",
        "# directory where we will output raster\n",
        "RASTER_OUTPUT_DIR = 'output/raster'\n",
        "\n",
        "# directory where we will output our models\n",
        "MODEL_OUTPUT_DIR = 'models'\n",
        "\n",
        "# image path\n",
        "IMAGE_PATH_TRAIN = '/content/data/images/train'\n",
        "MASK_PATH_TRAIN = '/content/data/masks/train'\n",
        "IMAGE_PATH_VALIDATE = '/content/data/images/validate'\n",
        "MASK_PATH_VALIDATE = '/content/data/masks/validate'\n",
        "IMAGE_TO_PREDICT_PATH = '/content/data/to_predict'\n",
        "\n",
        "# ratio of the dataset split for testing\n",
        "TEST_RATIO = 0.15\n",
        "\n",
        "# number of sets\n",
        "SET_NUMBER = 2\n",
        "\n",
        "# controls random seed for reproducibility\n",
        "RANDOM_STATE = 101\n",
        "\n",
        "# data type of the label, you would change this to something else if your\n",
        "# problem was for example a regression problem of type np.float32\n",
        "DATA_TYPE = np.float32"
      ],
      "metadata": {
        "id": "SMOV_sTnaREh"
      },
      "execution_count": null,
      "outputs": []
    },
    {
      "cell_type": "markdown",
      "source": [
        "## 3. CODE\n",
        "\n",
        "\n",
        "\n"
      ],
      "metadata": {
        "id": "BscWq67ZbYNm"
      }
    },
    {
      "cell_type": "code",
      "source": [
        "#Creating directories\n",
        "\n",
        "for set in range(SET_NUMBER):\n",
        "  os.makedirs(IMAGE_PATH_TRAIN+f'/set{set+1}', exist_ok=True)\n",
        "  os.makedirs(IMAGE_PATH_TRAIN+f'/set{set+1}', exist_ok=True)\n",
        "  os.makedirs(MASK_PATH_TRAIN+f'/set{set+1}', exist_ok=True)\n",
        "\n",
        "os.makedirs(MODEL_OUTPUT_DIR, exist_ok=True)\n",
        "os.makedirs(FIGURE_OUTPUT_DIR, exist_ok=True)\n",
        "os.makedirs(IMAGE_TO_PREDICT_PATH, exist_ok=True)\n",
        "os.makedirs(IMAGE_PATH_VALIDATE, exist_ok=True)\n",
        "os.makedirs(MASK_PATH_VALIDATE, exist_ok=True)"
      ],
      "metadata": {
        "id": "p_x4OHA8bTO7"
      },
      "execution_count": null,
      "outputs": []
    },
    {
      "cell_type": "code",
      "source": [
        "class RasterDataManipulator:\n",
        "  def __init__(self, data_folder):\n",
        "    self.data_folder = data_folder\n",
        "    self.band_config = []\n",
        "    self.file_list = []\n",
        "    self.data_list = []\n",
        "    self.date_list = []\n",
        "    self.img_np_array = []\n",
        "    self.date_np_array = []\n",
        "    self.col_names = []\n",
        "\n",
        "  #Setting band config\n",
        "  def set_band_config(self, band_range):\n",
        "    self.band_config = [i for i in range(1,band_range+1)]\n",
        "    for band in self.band_config:\n",
        "      col = f'band{band}'\n",
        "      self.col_names.append(col)\n",
        "\n",
        "  #Checking file lists\n",
        "  def check_file_list(self):\n",
        "    if len(self.file_list) == 0:\n",
        "      self.prepare_file_list()\n",
        "    else:\n",
        "      pass\n",
        "\n",
        "  #Getting file lists\n",
        "  def prepare_file_list(self):\n",
        "    for filename in os.scandir(self.data_folder):\n",
        "      if filename.is_file():\n",
        "        self.file_list.append(filename.path)\n",
        "    self.file_list = sorted(self.file_list)\n",
        "\n",
        "  #Getting data from image\n",
        "  def prepare_original_data_as_list(self):\n",
        "    for path in self.file_list:\n",
        "      date = path[-15:-5]\n",
        "      self.date_list.append(date)\n",
        "      with rio.open(path) as src:\n",
        "        data = src.read(self.band_config, out_dtype=DATA_TYPE)\n",
        "        self.data_list.append(data)\n",
        "\n",
        "  #2D array for dataframe\n",
        "  def data_list_to_2d_array(self):\n",
        "    date_arr = []\n",
        "    img_arr = []\n",
        "    B, W, H = self.data_list[0].shape\n",
        "    new_shape = (W*H,B)\n",
        "    for index, data in enumerate(self.data_list):\n",
        "      date = self.date_list[index]\n",
        "      img = np.empty(new_shape, dtype=DATA_TYPE)\n",
        "      for band in self.band_config:\n",
        "        img[:,band-1] = data[band-1].reshape(W*H)\n",
        "      date_arr.append([date] * (W*H))\n",
        "      img_arr.append(img)\n",
        "    self.img_np_array = np.vstack(img_arr)\n",
        "    self.date_np_array =  np.array(date_arr).reshape(W*H*len(self.date_list))\n",
        "\n",
        " #Converting data to dataframe\n",
        "  def to_dataframe(self):\n",
        "    self.check_file_list()\n",
        "    self.prepare_original_data_as_list()\n",
        "    self.data_list_to_2d_array()\n",
        "    raster_dataframe = pd.DataFrame(self.img_np_array, columns = self.col_names, dtype=DATA_TYPE)\n",
        "    raster_dataframe['date'] = self.date_np_array\n",
        "    return raster_dataframe\n",
        "\n",
        "  #Convert to preds_mask\n",
        "  def preds_to_mask(self, predictions):\n",
        "    B, W, H = self.data_list[0].shape\n",
        "    raster_shape = (W, H)\n",
        "    mask_array = np.asarray(predictions)\n",
        "    mask_matrix = mask_array.reshape(raster_shape)\n",
        "    return mask_matrix\n",
        "\n",
        "  #Getting meta data\n",
        "  def get_meta_data(self):\n",
        "    self.check_file_list()\n",
        "    meta_data = rio.open(self.file_list[0]).meta\n",
        "    return meta_data"
      ],
      "metadata": {
        "id": "-fE1Pz_uzQVE"
      },
      "execution_count": null,
      "outputs": []
    },
    {
      "cell_type": "code",
      "source": [
        "#Creating and merging DF to fit the model0\n",
        "\n",
        "def prepare_sets(data_folder):\n",
        "  sets_paths = []\n",
        "  for folder in os.listdir(data_folder):\n",
        "    if 'set' in folder:\n",
        "      sets_paths.append(data_folder + '/' + folder)\n",
        "  return  sets_paths\n",
        "\n",
        "image_sets = prepare_sets(IMAGE_PATH_TRAIN)\n",
        "mask_sets = prepare_sets(MASK_PATH_TRAIN)\n",
        "\n",
        "#Image data\n",
        "image_data = [RasterDataManipulator(image_set) for image_set in image_sets]\n",
        "image_df_list = []\n",
        "for image_obj in image_data:\n",
        "  image_obj.set_band_config(12)\n",
        "  image_df_list.append(image_obj.to_dataframe())\n",
        "image_df = pd.concat(image_df_list)\n",
        "\n",
        "#Mask data\n",
        "mask_data = [RasterDataManipulator(mask_set) for mask_set in mask_sets]\n",
        "mask_df_list = []\n",
        "for mask_obj in mask_data:\n",
        "  mask_obj.set_band_config(1)\n",
        "  mask_df = mask_obj.to_dataframe()\n",
        "  mask_df.drop(['date'],axis=1, inplace = True)\n",
        "  mask_df.rename(columns={'band1': 'category'}, inplace = True)\n",
        "  mask_df['category'] = mask_df['category'].astype(int)\n",
        "  mask_df_list.append(mask_df)\n",
        "mask_df = pd.concat(mask_df_list)\n",
        "\n",
        "#Full data\n",
        "full_df = image_df.join(mask_df)"
      ],
      "metadata": {
        "id": "1tC4nclmyd1E"
      },
      "execution_count": null,
      "outputs": []
    },
    {
      "cell_type": "markdown",
      "source": [
        "***MODEL BASED ON RAW PIXEL DATA TO PREDICT MASK VALUES***"
      ],
      "metadata": {
        "id": "QKBIDYkvy44j"
      }
    },
    {
      "cell_type": "code",
      "source": [
        "#Dropping date column\n",
        "full_df.drop(['date'],axis=1, inplace=True)\n",
        "full_df.head()"
      ],
      "metadata": {
        "id": "G06epqCxzHMf",
        "colab": {
          "base_uri": "https://localhost:8080/",
          "height": 206
        },
        "outputId": "5cca27e7-e660-460a-a4f7-d9c6b56b1893"
      },
      "execution_count": null,
      "outputs": [
        {
          "output_type": "execute_result",
          "data": {
            "text/plain": [
              "   band1   band2   band3   band4   band5   band6   band7   band8   band9  \\\n",
              "0  328.0   323.0   640.0   500.0  1173.0  2167.0  2453.0  3001.0  2933.0   \n",
              "0  328.0   323.0   640.0   500.0  1173.0  2167.0  2453.0  3001.0  2933.0   \n",
              "0  884.0  1101.0  1601.0  1729.0  1877.0  2007.0  2137.0  2279.0  2069.0   \n",
              "0  884.0  1101.0  1601.0  1729.0  1877.0  2007.0  2137.0  2279.0  2069.0   \n",
              "1  328.0   262.0   584.0   493.0  1173.0  2167.0  2453.0  3069.0  2933.0   \n",
              "\n",
              "   band10  band11  band12  category  \n",
              "0  2776.0  2566.0  1448.0         0  \n",
              "0  2776.0  2566.0  1448.0         0  \n",
              "0  2464.0  2649.0  2012.0         0  \n",
              "0  2464.0  2649.0  2012.0         0  \n",
              "1  2776.0  2566.0  1448.0         0  "
            ],
            "text/html": [
              "\n",
              "  <div id=\"df-e69c5194-ecd9-4596-8589-0b1692df0575\">\n",
              "    <div class=\"colab-df-container\">\n",
              "      <div>\n",
              "<style scoped>\n",
              "    .dataframe tbody tr th:only-of-type {\n",
              "        vertical-align: middle;\n",
              "    }\n",
              "\n",
              "    .dataframe tbody tr th {\n",
              "        vertical-align: top;\n",
              "    }\n",
              "\n",
              "    .dataframe thead th {\n",
              "        text-align: right;\n",
              "    }\n",
              "</style>\n",
              "<table border=\"1\" class=\"dataframe\">\n",
              "  <thead>\n",
              "    <tr style=\"text-align: right;\">\n",
              "      <th></th>\n",
              "      <th>band1</th>\n",
              "      <th>band2</th>\n",
              "      <th>band3</th>\n",
              "      <th>band4</th>\n",
              "      <th>band5</th>\n",
              "      <th>band6</th>\n",
              "      <th>band7</th>\n",
              "      <th>band8</th>\n",
              "      <th>band9</th>\n",
              "      <th>band10</th>\n",
              "      <th>band11</th>\n",
              "      <th>band12</th>\n",
              "      <th>category</th>\n",
              "    </tr>\n",
              "  </thead>\n",
              "  <tbody>\n",
              "    <tr>\n",
              "      <th>0</th>\n",
              "      <td>328.0</td>\n",
              "      <td>323.0</td>\n",
              "      <td>640.0</td>\n",
              "      <td>500.0</td>\n",
              "      <td>1173.0</td>\n",
              "      <td>2167.0</td>\n",
              "      <td>2453.0</td>\n",
              "      <td>3001.0</td>\n",
              "      <td>2933.0</td>\n",
              "      <td>2776.0</td>\n",
              "      <td>2566.0</td>\n",
              "      <td>1448.0</td>\n",
              "      <td>0</td>\n",
              "    </tr>\n",
              "    <tr>\n",
              "      <th>0</th>\n",
              "      <td>328.0</td>\n",
              "      <td>323.0</td>\n",
              "      <td>640.0</td>\n",
              "      <td>500.0</td>\n",
              "      <td>1173.0</td>\n",
              "      <td>2167.0</td>\n",
              "      <td>2453.0</td>\n",
              "      <td>3001.0</td>\n",
              "      <td>2933.0</td>\n",
              "      <td>2776.0</td>\n",
              "      <td>2566.0</td>\n",
              "      <td>1448.0</td>\n",
              "      <td>0</td>\n",
              "    </tr>\n",
              "    <tr>\n",
              "      <th>0</th>\n",
              "      <td>884.0</td>\n",
              "      <td>1101.0</td>\n",
              "      <td>1601.0</td>\n",
              "      <td>1729.0</td>\n",
              "      <td>1877.0</td>\n",
              "      <td>2007.0</td>\n",
              "      <td>2137.0</td>\n",
              "      <td>2279.0</td>\n",
              "      <td>2069.0</td>\n",
              "      <td>2464.0</td>\n",
              "      <td>2649.0</td>\n",
              "      <td>2012.0</td>\n",
              "      <td>0</td>\n",
              "    </tr>\n",
              "    <tr>\n",
              "      <th>0</th>\n",
              "      <td>884.0</td>\n",
              "      <td>1101.0</td>\n",
              "      <td>1601.0</td>\n",
              "      <td>1729.0</td>\n",
              "      <td>1877.0</td>\n",
              "      <td>2007.0</td>\n",
              "      <td>2137.0</td>\n",
              "      <td>2279.0</td>\n",
              "      <td>2069.0</td>\n",
              "      <td>2464.0</td>\n",
              "      <td>2649.0</td>\n",
              "      <td>2012.0</td>\n",
              "      <td>0</td>\n",
              "    </tr>\n",
              "    <tr>\n",
              "      <th>1</th>\n",
              "      <td>328.0</td>\n",
              "      <td>262.0</td>\n",
              "      <td>584.0</td>\n",
              "      <td>493.0</td>\n",
              "      <td>1173.0</td>\n",
              "      <td>2167.0</td>\n",
              "      <td>2453.0</td>\n",
              "      <td>3069.0</td>\n",
              "      <td>2933.0</td>\n",
              "      <td>2776.0</td>\n",
              "      <td>2566.0</td>\n",
              "      <td>1448.0</td>\n",
              "      <td>0</td>\n",
              "    </tr>\n",
              "  </tbody>\n",
              "</table>\n",
              "</div>\n",
              "      <button class=\"colab-df-convert\" onclick=\"convertToInteractive('df-e69c5194-ecd9-4596-8589-0b1692df0575')\"\n",
              "              title=\"Convert this dataframe to an interactive table.\"\n",
              "              style=\"display:none;\">\n",
              "        \n",
              "  <svg xmlns=\"http://www.w3.org/2000/svg\" height=\"24px\"viewBox=\"0 0 24 24\"\n",
              "       width=\"24px\">\n",
              "    <path d=\"M0 0h24v24H0V0z\" fill=\"none\"/>\n",
              "    <path d=\"M18.56 5.44l.94 2.06.94-2.06 2.06-.94-2.06-.94-.94-2.06-.94 2.06-2.06.94zm-11 1L8.5 8.5l.94-2.06 2.06-.94-2.06-.94L8.5 2.5l-.94 2.06-2.06.94zm10 10l.94 2.06.94-2.06 2.06-.94-2.06-.94-.94-2.06-.94 2.06-2.06.94z\"/><path d=\"M17.41 7.96l-1.37-1.37c-.4-.4-.92-.59-1.43-.59-.52 0-1.04.2-1.43.59L10.3 9.45l-7.72 7.72c-.78.78-.78 2.05 0 2.83L4 21.41c.39.39.9.59 1.41.59.51 0 1.02-.2 1.41-.59l7.78-7.78 2.81-2.81c.8-.78.8-2.07 0-2.86zM5.41 20L4 18.59l7.72-7.72 1.47 1.35L5.41 20z\"/>\n",
              "  </svg>\n",
              "      </button>\n",
              "      \n",
              "  <style>\n",
              "    .colab-df-container {\n",
              "      display:flex;\n",
              "      flex-wrap:wrap;\n",
              "      gap: 12px;\n",
              "    }\n",
              "\n",
              "    .colab-df-convert {\n",
              "      background-color: #E8F0FE;\n",
              "      border: none;\n",
              "      border-radius: 50%;\n",
              "      cursor: pointer;\n",
              "      display: none;\n",
              "      fill: #1967D2;\n",
              "      height: 32px;\n",
              "      padding: 0 0 0 0;\n",
              "      width: 32px;\n",
              "    }\n",
              "\n",
              "    .colab-df-convert:hover {\n",
              "      background-color: #E2EBFA;\n",
              "      box-shadow: 0px 1px 2px rgba(60, 64, 67, 0.3), 0px 1px 3px 1px rgba(60, 64, 67, 0.15);\n",
              "      fill: #174EA6;\n",
              "    }\n",
              "\n",
              "    [theme=dark] .colab-df-convert {\n",
              "      background-color: #3B4455;\n",
              "      fill: #D2E3FC;\n",
              "    }\n",
              "\n",
              "    [theme=dark] .colab-df-convert:hover {\n",
              "      background-color: #434B5C;\n",
              "      box-shadow: 0px 1px 3px 1px rgba(0, 0, 0, 0.15);\n",
              "      filter: drop-shadow(0px 1px 2px rgba(0, 0, 0, 0.3));\n",
              "      fill: #FFFFFF;\n",
              "    }\n",
              "  </style>\n",
              "\n",
              "      <script>\n",
              "        const buttonEl =\n",
              "          document.querySelector('#df-e69c5194-ecd9-4596-8589-0b1692df0575 button.colab-df-convert');\n",
              "        buttonEl.style.display =\n",
              "          google.colab.kernel.accessAllowed ? 'block' : 'none';\n",
              "\n",
              "        async function convertToInteractive(key) {\n",
              "          const element = document.querySelector('#df-e69c5194-ecd9-4596-8589-0b1692df0575');\n",
              "          const dataTable =\n",
              "            await google.colab.kernel.invokeFunction('convertToInteractive',\n",
              "                                                     [key], {});\n",
              "          if (!dataTable) return;\n",
              "\n",
              "          const docLinkHtml = 'Like what you see? Visit the ' +\n",
              "            '<a target=\"_blank\" href=https://colab.research.google.com/notebooks/data_table.ipynb>data table notebook</a>'\n",
              "            + ' to learn more about interactive tables.';\n",
              "          element.innerHTML = '';\n",
              "          dataTable['output_type'] = 'display_data';\n",
              "          await google.colab.output.renderOutput(dataTable, element);\n",
              "          const docLink = document.createElement('div');\n",
              "          docLink.innerHTML = docLinkHtml;\n",
              "          element.appendChild(docLink);\n",
              "        }\n",
              "      </script>\n",
              "    </div>\n",
              "  </div>\n",
              "  "
            ]
          },
          "metadata": {},
          "execution_count": 9
        }
      ]
    },
    {
      "cell_type": "code",
      "source": [
        "full_df.info"
      ],
      "metadata": {
        "colab": {
          "base_uri": "https://localhost:8080/"
        },
        "id": "yW8T2--XL61B",
        "outputId": "6b35f878-9337-4948-de8c-85a509653af7"
      },
      "execution_count": null,
      "outputs": [
        {
          "output_type": "execute_result",
          "data": {
            "text/plain": [
              "<bound method DataFrame.info of          band1   band2   band3   band4   band5   band6   band7   band8  \\\n",
              "0        328.0   323.0   640.0   500.0  1173.0  2167.0  2453.0  3001.0   \n",
              "0        328.0   323.0   640.0   500.0  1173.0  2167.0  2453.0  3001.0   \n",
              "0        884.0  1101.0  1601.0  1729.0  1877.0  2007.0  2137.0  2279.0   \n",
              "0        884.0  1101.0  1601.0  1729.0  1877.0  2007.0  2137.0  2279.0   \n",
              "1        328.0   262.0   584.0   493.0  1173.0  2167.0  2453.0  3069.0   \n",
              "...        ...     ...     ...     ...     ...     ...     ...     ...   \n",
              "1466176  318.0   197.0   388.0   325.0   934.0  1837.0  2060.0  2124.0   \n",
              "1466177  318.0   217.0   361.0   283.0   934.0  1837.0  2060.0  2103.0   \n",
              "1466178  318.0   158.0   347.0   293.0   963.0  1841.0  2066.0  2105.0   \n",
              "1466179  318.0   153.0   363.0   283.0   963.0  1841.0  2066.0  2175.0   \n",
              "1466180  317.0   172.0   369.0   279.0   878.0  1735.0  1956.0  2111.0   \n",
              "\n",
              "          band9  band10  band11  band12  category  \n",
              "0        2933.0  2776.0  2566.0  1448.0         0  \n",
              "0        2933.0  2776.0  2566.0  1448.0         0  \n",
              "0        2069.0  2464.0  2649.0  2012.0         0  \n",
              "0        2069.0  2464.0  2649.0  2012.0         0  \n",
              "1        2933.0  2776.0  2566.0  1448.0         0  \n",
              "...         ...     ...     ...     ...       ...  \n",
              "1466176  2201.0  2165.0  1589.0  1047.0         0  \n",
              "1466177  2201.0  2165.0  1589.0  1047.0         0  \n",
              "1466178  2275.0  2165.0  1654.0  1035.0         0  \n",
              "1466179  2275.0  2165.0  1654.0  1035.0         0  \n",
              "1466180  2150.0  2081.0  1530.0   961.0         0  \n",
              "\n",
              "[3383109 rows x 13 columns]>"
            ]
          },
          "metadata": {},
          "execution_count": 10
        }
      ]
    },
    {
      "cell_type": "code",
      "source": [
        "#Checking null value\n",
        "sum_series = full_df.isnull().sum()\n",
        "null_values = sum_series.sum()\n",
        "if null_values == 0:\n",
        "  print('No null values in the dataframe')\n",
        "else:\n",
        "  print(f'There are {null_values} null values:')\n",
        "  print(full_df.isnull().sum())"
      ],
      "metadata": {
        "id": "qXgSiNi-0AbJ",
        "colab": {
          "base_uri": "https://localhost:8080/"
        },
        "outputId": "83137cb7-584f-4885-95b0-840d32aa55d8"
      },
      "execution_count": null,
      "outputs": [
        {
          "output_type": "stream",
          "name": "stdout",
          "text": [
            "No null values in the dataframe\n"
          ]
        }
      ]
    },
    {
      "cell_type": "code",
      "source": [
        "#Data preparation fot ML model\n",
        "X = full_df.drop('category', axis=1)\n",
        "y = full_df['category']\n",
        "\n",
        "X_train, X_test, y_train, y_test = train_test_split(X, y, test_size = TEST_RATIO, random_state=RANDOM_STATE)"
      ],
      "metadata": {
        "id": "9AwTUueS2oXP"
      },
      "execution_count": null,
      "outputs": []
    },
    {
      "cell_type": "code",
      "source": [
        "#Searching for best model values\n",
        "\n",
        "n_estimators = [64,100,128,200]\n",
        "\n",
        "param_grid = {'n_estimators': n_estimators}\n",
        "\n",
        "#rf_model = RandomForestClassifier()\n",
        "#grid_model = GridSearchCV(rf_model, param_grid)\n",
        "\n",
        "#grid_model.fit(X_train, y_train) -> n_estimators = 100 is the best!\n"
      ],
      "metadata": {
        "id": "7K6KcHP9FOtQ"
      },
      "execution_count": null,
      "outputs": []
    },
    {
      "cell_type": "code",
      "source": [
        "#grid_model.best_params_"
      ],
      "metadata": {
        "id": "uBkfFXFQGUZZ"
      },
      "execution_count": null,
      "outputs": []
    },
    {
      "cell_type": "code",
      "source": [
        "rf_model = RandomForestClassifier(n_estimators = 100)"
      ],
      "metadata": {
        "id": "zbGuOiTIUCe-"
      },
      "execution_count": null,
      "outputs": []
    },
    {
      "cell_type": "code",
      "source": [
        "rf_model.fit(X_train, y_train)"
      ],
      "metadata": {
        "id": "NIAPd2K4UQPO",
        "colab": {
          "base_uri": "https://localhost:8080/",
          "height": 75
        },
        "outputId": "f9274dca-27a3-47ed-9aaf-c6d03706171b"
      },
      "execution_count": null,
      "outputs": [
        {
          "output_type": "execute_result",
          "data": {
            "text/plain": [
              "RandomForestClassifier()"
            ],
            "text/html": [
              "<style>#sk-container-id-3 {color: black;background-color: white;}#sk-container-id-3 pre{padding: 0;}#sk-container-id-3 div.sk-toggleable {background-color: white;}#sk-container-id-3 label.sk-toggleable__label {cursor: pointer;display: block;width: 100%;margin-bottom: 0;padding: 0.3em;box-sizing: border-box;text-align: center;}#sk-container-id-3 label.sk-toggleable__label-arrow:before {content: \"▸\";float: left;margin-right: 0.25em;color: #696969;}#sk-container-id-3 label.sk-toggleable__label-arrow:hover:before {color: black;}#sk-container-id-3 div.sk-estimator:hover label.sk-toggleable__label-arrow:before {color: black;}#sk-container-id-3 div.sk-toggleable__content {max-height: 0;max-width: 0;overflow: hidden;text-align: left;background-color: #f0f8ff;}#sk-container-id-3 div.sk-toggleable__content pre {margin: 0.2em;color: black;border-radius: 0.25em;background-color: #f0f8ff;}#sk-container-id-3 input.sk-toggleable__control:checked~div.sk-toggleable__content {max-height: 200px;max-width: 100%;overflow: auto;}#sk-container-id-3 input.sk-toggleable__control:checked~label.sk-toggleable__label-arrow:before {content: \"▾\";}#sk-container-id-3 div.sk-estimator input.sk-toggleable__control:checked~label.sk-toggleable__label {background-color: #d4ebff;}#sk-container-id-3 div.sk-label input.sk-toggleable__control:checked~label.sk-toggleable__label {background-color: #d4ebff;}#sk-container-id-3 input.sk-hidden--visually {border: 0;clip: rect(1px 1px 1px 1px);clip: rect(1px, 1px, 1px, 1px);height: 1px;margin: -1px;overflow: hidden;padding: 0;position: absolute;width: 1px;}#sk-container-id-3 div.sk-estimator {font-family: monospace;background-color: #f0f8ff;border: 1px dotted black;border-radius: 0.25em;box-sizing: border-box;margin-bottom: 0.5em;}#sk-container-id-3 div.sk-estimator:hover {background-color: #d4ebff;}#sk-container-id-3 div.sk-parallel-item::after {content: \"\";width: 100%;border-bottom: 1px solid gray;flex-grow: 1;}#sk-container-id-3 div.sk-label:hover label.sk-toggleable__label {background-color: #d4ebff;}#sk-container-id-3 div.sk-serial::before {content: \"\";position: absolute;border-left: 1px solid gray;box-sizing: border-box;top: 0;bottom: 0;left: 50%;z-index: 0;}#sk-container-id-3 div.sk-serial {display: flex;flex-direction: column;align-items: center;background-color: white;padding-right: 0.2em;padding-left: 0.2em;position: relative;}#sk-container-id-3 div.sk-item {position: relative;z-index: 1;}#sk-container-id-3 div.sk-parallel {display: flex;align-items: stretch;justify-content: center;background-color: white;position: relative;}#sk-container-id-3 div.sk-item::before, #sk-container-id-3 div.sk-parallel-item::before {content: \"\";position: absolute;border-left: 1px solid gray;box-sizing: border-box;top: 0;bottom: 0;left: 50%;z-index: -1;}#sk-container-id-3 div.sk-parallel-item {display: flex;flex-direction: column;z-index: 1;position: relative;background-color: white;}#sk-container-id-3 div.sk-parallel-item:first-child::after {align-self: flex-end;width: 50%;}#sk-container-id-3 div.sk-parallel-item:last-child::after {align-self: flex-start;width: 50%;}#sk-container-id-3 div.sk-parallel-item:only-child::after {width: 0;}#sk-container-id-3 div.sk-dashed-wrapped {border: 1px dashed gray;margin: 0 0.4em 0.5em 0.4em;box-sizing: border-box;padding-bottom: 0.4em;background-color: white;}#sk-container-id-3 div.sk-label label {font-family: monospace;font-weight: bold;display: inline-block;line-height: 1.2em;}#sk-container-id-3 div.sk-label-container {text-align: center;}#sk-container-id-3 div.sk-container {/* jupyter's `normalize.less` sets `[hidden] { display: none; }` but bootstrap.min.css set `[hidden] { display: none !important; }` so we also need the `!important` here to be able to override the default hidden behavior on the sphinx rendered scikit-learn.org. See: https://github.com/scikit-learn/scikit-learn/issues/21755 */display: inline-block !important;position: relative;}#sk-container-id-3 div.sk-text-repr-fallback {display: none;}</style><div id=\"sk-container-id-3\" class=\"sk-top-container\"><div class=\"sk-text-repr-fallback\"><pre>RandomForestClassifier()</pre><b>In a Jupyter environment, please rerun this cell to show the HTML representation or trust the notebook. <br />On GitHub, the HTML representation is unable to render, please try loading this page with nbviewer.org.</b></div><div class=\"sk-container\" hidden><div class=\"sk-item\"><div class=\"sk-estimator sk-toggleable\"><input class=\"sk-toggleable__control sk-hidden--visually\" id=\"sk-estimator-id-3\" type=\"checkbox\" checked><label for=\"sk-estimator-id-3\" class=\"sk-toggleable__label sk-toggleable__label-arrow\">RandomForestClassifier</label><div class=\"sk-toggleable__content\"><pre>RandomForestClassifier()</pre></div></div></div></div></div>"
            ]
          },
          "metadata": {},
          "execution_count": 28
        }
      ]
    },
    {
      "cell_type": "code",
      "source": [
        "preds = rf_model.predict(X_test)"
      ],
      "metadata": {
        "id": "dryKTMKgHrh-"
      },
      "execution_count": null,
      "outputs": []
    },
    {
      "cell_type": "code",
      "source": [
        "print(classification_report(y_test,preds))"
      ],
      "metadata": {
        "id": "6P7kHiVqIoEi",
        "colab": {
          "base_uri": "https://localhost:8080/"
        },
        "outputId": "cf6fd0a3-d152-4884-865f-5143a4f846dd"
      },
      "execution_count": null,
      "outputs": [
        {
          "output_type": "stream",
          "name": "stdout",
          "text": [
            "              precision    recall  f1-score   support\n",
            "\n",
            "           0       0.98      0.99      0.99    496868\n",
            "           1       0.32      0.27      0.29     10599\n",
            "\n",
            "    accuracy                           0.97    507467\n",
            "   macro avg       0.65      0.63      0.64    507467\n",
            "weighted avg       0.97      0.97      0.97    507467\n",
            "\n"
          ]
        }
      ]
    },
    {
      "cell_type": "code",
      "source": [
        "plt.figure(figsize=(15,7))\n",
        "ConfusionMatrixDisplay.from_predictions(y_test, preds)"
      ],
      "metadata": {
        "id": "coqN3YZIIttS",
        "colab": {
          "base_uri": "https://localhost:8080/",
          "height": 513
        },
        "outputId": "ea7910a4-0ccf-487f-a0ef-00660c2e67f2"
      },
      "execution_count": null,
      "outputs": [
        {
          "output_type": "execute_result",
          "data": {
            "text/plain": [
              "<sklearn.metrics._plot.confusion_matrix.ConfusionMatrixDisplay at 0x7f06eb1abfa0>"
            ]
          },
          "metadata": {},
          "execution_count": 31
        },
        {
          "output_type": "display_data",
          "data": {
            "text/plain": [
              "<Figure size 1500x700 with 0 Axes>"
            ]
          },
          "metadata": {}
        },
        {
          "output_type": "display_data",
          "data": {
            "text/plain": [
              "<Figure size 640x480 with 2 Axes>"
            ],
            "image/png": "[encoded data removed]"
          },
          "metadata": {}
        }
      ]
    },
    {
      "cell_type": "code",
      "source": [
        "#Predicting unknown image - data preparation\n",
        "\n",
        "image_to_predict = RasterDataManipulator(IMAGE_TO_PREDICT_PATH)\n",
        "image_to_predict.set_band_config(12)\n",
        "prediction_df = image_to_predict.to_dataframe()\n",
        "prediction_df.drop(['date'],axis=1,inplace=True)\n",
        "\n",
        "#Predictions from model\n",
        "predictions = rf_model.predict(prediction_df)\n",
        "\n",
        "#Convertion to Mask arr\n",
        "mask_arr = image_to_predict.preds_to_mask(predictions)\n",
        "mask_arr.shape"
      ],
      "metadata": {
        "id": "J2SjOuRIWrr4",
        "colab": {
          "base_uri": "https://localhost:8080/"
        },
        "outputId": "e6a51662-da8c-4928-cdfc-9b9d4cfd61ae"
      },
      "execution_count": null,
      "outputs": [
        {
          "output_type": "execute_result",
          "data": {
            "text/plain": [
              "(730, 923)"
            ]
          },
          "metadata": {},
          "execution_count": 32
        }
      ]
    },
    {
      "cell_type": "code",
      "source": [
        "#Saving back to raster GeoTIFF\n",
        "\n",
        "meta_data = image_to_predict.get_meta_data()\n",
        "file_name = image_to_predict.file_list[0]\n",
        "mask = rio.open('mask_pred_test.tiff', 'w', driver='GTiff',\n",
        "                            height = meta_data['height'], width = meta_data['width'],\n",
        "                            count=1, dtype=meta_data['dtype'],\n",
        "                            crs=meta_data['crs'],\n",
        "                            transform=meta_data['transform'])\n",
        "\n",
        "mask.write(mask_arr, 1)\n",
        "mask.close()"
      ],
      "metadata": {
        "id": "Mk435suW7Qep"
      },
      "execution_count": null,
      "outputs": []
    }
  ]
}