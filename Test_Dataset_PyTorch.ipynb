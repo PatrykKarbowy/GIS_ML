{
  "nbformat": 4,
  "nbformat_minor": 0,
  "metadata": {
    "colab": {
      "provenance": [],
      "gpuType": "T4"
    },
    "kernelspec": {
      "name": "python3",
      "display_name": "Python 3"
    },
    "language_info": {
      "name": "python"
    },
    "accelerator": "GPU"
  },
  "cells": [
    {
      "cell_type": "code",
      "execution_count": 26,
      "metadata": {
        "colab": {
          "base_uri": "https://localhost:8080/"
        },
        "id": "ZA0b18fT-ZLQ",
        "outputId": "95327fd3-58cc-437e-db96-9fd34b6199ba"
      },
      "outputs": [
        {
          "output_type": "stream",
          "name": "stdout",
          "text": [
            "Requirement already satisfied: rasterio in /usr/local/lib/python3.10/dist-packages (1.3.8)\n",
            "Requirement already satisfied: affine in /usr/local/lib/python3.10/dist-packages (from rasterio) (2.4.0)\n",
            "Requirement already satisfied: attrs in /usr/local/lib/python3.10/dist-packages (from rasterio) (23.1.0)\n",
            "Requirement already satisfied: certifi in /usr/local/lib/python3.10/dist-packages (from rasterio) (2023.5.7)\n",
            "Requirement already satisfied: click>=4.0 in /usr/local/lib/python3.10/dist-packages (from rasterio) (8.1.3)\n",
            "Requirement already satisfied: cligj>=0.5 in /usr/local/lib/python3.10/dist-packages (from rasterio) (0.7.2)\n",
            "Requirement already satisfied: numpy>=1.18 in /usr/local/lib/python3.10/dist-packages (from rasterio) (1.22.4)\n",
            "Requirement already satisfied: snuggs>=1.4.1 in /usr/local/lib/python3.10/dist-packages (from rasterio) (1.4.7)\n",
            "Requirement already satisfied: click-plugins in /usr/local/lib/python3.10/dist-packages (from rasterio) (1.1.1)\n",
            "Requirement already satisfied: setuptools in /usr/local/lib/python3.10/dist-packages (from rasterio) (67.7.2)\n",
            "Requirement already satisfied: pyparsing>=2.1.6 in /usr/local/lib/python3.10/dist-packages (from snuggs>=1.4.1->rasterio) (3.1.0)\n",
            "Requirement already satisfied: albumentations in /usr/local/lib/python3.10/dist-packages (1.2.1)\n",
            "Requirement already satisfied: numpy>=1.11.1 in /usr/local/lib/python3.10/dist-packages (from albumentations) (1.22.4)\n",
            "Requirement already satisfied: scipy in /usr/local/lib/python3.10/dist-packages (from albumentations) (1.10.1)\n",
            "Requirement already satisfied: scikit-image>=0.16.1 in /usr/local/lib/python3.10/dist-packages (from albumentations) (0.19.3)\n",
            "Requirement already satisfied: PyYAML in /usr/local/lib/python3.10/dist-packages (from albumentations) (6.0)\n",
            "Requirement already satisfied: qudida>=0.0.4 in /usr/local/lib/python3.10/dist-packages (from albumentations) (0.0.4)\n",
            "Requirement already satisfied: opencv-python-headless>=4.1.1 in /usr/local/lib/python3.10/dist-packages (from albumentations) (4.7.0.72)\n",
            "Requirement already satisfied: scikit-learn>=0.19.1 in /usr/local/lib/python3.10/dist-packages (from qudida>=0.0.4->albumentations) (1.2.2)\n",
            "Requirement already satisfied: typing-extensions in /usr/local/lib/python3.10/dist-packages (from qudida>=0.0.4->albumentations) (4.6.3)\n",
            "Requirement already satisfied: networkx>=2.2 in /usr/local/lib/python3.10/dist-packages (from scikit-image>=0.16.1->albumentations) (3.1)\n",
            "Requirement already satisfied: pillow!=7.1.0,!=7.1.1,!=8.3.0,>=6.1.0 in /usr/local/lib/python3.10/dist-packages (from scikit-image>=0.16.1->albumentations) (8.4.0)\n",
            "Requirement already satisfied: imageio>=2.4.1 in /usr/local/lib/python3.10/dist-packages (from scikit-image>=0.16.1->albumentations) (2.25.1)\n",
            "Requirement already satisfied: tifffile>=2019.7.26 in /usr/local/lib/python3.10/dist-packages (from scikit-image>=0.16.1->albumentations) (2023.4.12)\n",
            "Requirement already satisfied: PyWavelets>=1.1.1 in /usr/local/lib/python3.10/dist-packages (from scikit-image>=0.16.1->albumentations) (1.4.1)\n",
            "Requirement already satisfied: packaging>=20.0 in /usr/local/lib/python3.10/dist-packages (from scikit-image>=0.16.1->albumentations) (23.1)\n",
            "Requirement already satisfied: joblib>=1.1.1 in /usr/local/lib/python3.10/dist-packages (from scikit-learn>=0.19.1->qudida>=0.0.4->albumentations) (1.2.0)\n",
            "Requirement already satisfied: threadpoolctl>=2.0.0 in /usr/local/lib/python3.10/dist-packages (from scikit-learn>=0.19.1->qudida>=0.0.4->albumentations) (3.1.0)\n",
            "Requirement already satisfied: segmentation_models_pytorch in /usr/local/lib/python3.10/dist-packages (0.3.3)\n",
            "Requirement already satisfied: torchvision>=0.5.0 in /usr/local/lib/python3.10/dist-packages (from segmentation_models_pytorch) (0.15.2+cu118)\n",
            "Requirement already satisfied: pretrainedmodels==0.7.4 in /usr/local/lib/python3.10/dist-packages (from segmentation_models_pytorch) (0.7.4)\n",
            "Requirement already satisfied: efficientnet-pytorch==0.7.1 in /usr/local/lib/python3.10/dist-packages (from segmentation_models_pytorch) (0.7.1)\n",
            "Requirement already satisfied: timm==0.9.2 in /usr/local/lib/python3.10/dist-packages (from segmentation_models_pytorch) (0.9.2)\n",
            "Requirement already satisfied: tqdm in /usr/local/lib/python3.10/dist-packages (from segmentation_models_pytorch) (4.65.0)\n",
            "Requirement already satisfied: pillow in /usr/local/lib/python3.10/dist-packages (from segmentation_models_pytorch) (8.4.0)\n",
            "Requirement already satisfied: torch in /usr/local/lib/python3.10/dist-packages (from efficientnet-pytorch==0.7.1->segmentation_models_pytorch) (2.0.1+cu118)\n",
            "Requirement already satisfied: munch in /usr/local/lib/python3.10/dist-packages (from pretrainedmodels==0.7.4->segmentation_models_pytorch) (3.0.0)\n",
            "Requirement already satisfied: pyyaml in /usr/local/lib/python3.10/dist-packages (from timm==0.9.2->segmentation_models_pytorch) (6.0)\n",
            "Requirement already satisfied: huggingface-hub in /usr/local/lib/python3.10/dist-packages (from timm==0.9.2->segmentation_models_pytorch) (0.15.1)\n",
            "Requirement already satisfied: safetensors in /usr/local/lib/python3.10/dist-packages (from timm==0.9.2->segmentation_models_pytorch) (0.3.1)\n",
            "Requirement already satisfied: numpy in /usr/local/lib/python3.10/dist-packages (from torchvision>=0.5.0->segmentation_models_pytorch) (1.22.4)\n",
            "Requirement already satisfied: requests in /usr/local/lib/python3.10/dist-packages (from torchvision>=0.5.0->segmentation_models_pytorch) (2.27.1)\n",
            "Requirement already satisfied: filelock in /usr/local/lib/python3.10/dist-packages (from torch->efficientnet-pytorch==0.7.1->segmentation_models_pytorch) (3.12.2)\n",
            "Requirement already satisfied: typing-extensions in /usr/local/lib/python3.10/dist-packages (from torch->efficientnet-pytorch==0.7.1->segmentation_models_pytorch) (4.6.3)\n",
            "Requirement already satisfied: sympy in /usr/local/lib/python3.10/dist-packages (from torch->efficientnet-pytorch==0.7.1->segmentation_models_pytorch) (1.11.1)\n",
            "Requirement already satisfied: networkx in /usr/local/lib/python3.10/dist-packages (from torch->efficientnet-pytorch==0.7.1->segmentation_models_pytorch) (3.1)\n",
            "Requirement already satisfied: jinja2 in /usr/local/lib/python3.10/dist-packages (from torch->efficientnet-pytorch==0.7.1->segmentation_models_pytorch) (3.1.2)\n",
            "Requirement already satisfied: triton==2.0.0 in /usr/local/lib/python3.10/dist-packages (from torch->efficientnet-pytorch==0.7.1->segmentation_models_pytorch) (2.0.0)\n",
            "Requirement already satisfied: cmake in /usr/local/lib/python3.10/dist-packages (from triton==2.0.0->torch->efficientnet-pytorch==0.7.1->segmentation_models_pytorch) (3.25.2)\n",
            "Requirement already satisfied: lit in /usr/local/lib/python3.10/dist-packages (from triton==2.0.0->torch->efficientnet-pytorch==0.7.1->segmentation_models_pytorch) (16.0.6)\n",
            "Requirement already satisfied: fsspec in /usr/local/lib/python3.10/dist-packages (from huggingface-hub->timm==0.9.2->segmentation_models_pytorch) (2023.6.0)\n",
            "Requirement already satisfied: packaging>=20.9 in /usr/local/lib/python3.10/dist-packages (from huggingface-hub->timm==0.9.2->segmentation_models_pytorch) (23.1)\n",
            "Requirement already satisfied: six in /usr/local/lib/python3.10/dist-packages (from munch->pretrainedmodels==0.7.4->segmentation_models_pytorch) (1.16.0)\n",
            "Requirement already satisfied: urllib3<1.27,>=1.21.1 in /usr/local/lib/python3.10/dist-packages (from requests->torchvision>=0.5.0->segmentation_models_pytorch) (1.26.16)\n",
            "Requirement already satisfied: certifi>=2017.4.17 in /usr/local/lib/python3.10/dist-packages (from requests->torchvision>=0.5.0->segmentation_models_pytorch) (2023.5.7)\n",
            "Requirement already satisfied: charset-normalizer~=2.0.0 in /usr/local/lib/python3.10/dist-packages (from requests->torchvision>=0.5.0->segmentation_models_pytorch) (2.0.12)\n",
            "Requirement already satisfied: idna<4,>=2.5 in /usr/local/lib/python3.10/dist-packages (from requests->torchvision>=0.5.0->segmentation_models_pytorch) (3.4)\n",
            "Requirement already satisfied: MarkupSafe>=2.0 in /usr/local/lib/python3.10/dist-packages (from jinja2->torch->efficientnet-pytorch==0.7.1->segmentation_models_pytorch) (2.1.3)\n",
            "Requirement already satisfied: mpmath>=0.19 in /usr/local/lib/python3.10/dist-packages (from sympy->torch->efficientnet-pytorch==0.7.1->segmentation_models_pytorch) (1.3.0)\n",
            "Requirement already satisfied: torchmetrics in /usr/local/lib/python3.10/dist-packages (0.11.4)\n",
            "Requirement already satisfied: numpy>=1.17.2 in /usr/local/lib/python3.10/dist-packages (from torchmetrics) (1.22.4)\n",
            "Requirement already satisfied: torch>=1.8.1 in /usr/local/lib/python3.10/dist-packages (from torchmetrics) (2.0.1+cu118)\n",
            "Requirement already satisfied: packaging in /usr/local/lib/python3.10/dist-packages (from torchmetrics) (23.1)\n",
            "Requirement already satisfied: filelock in /usr/local/lib/python3.10/dist-packages (from torch>=1.8.1->torchmetrics) (3.12.2)\n",
            "Requirement already satisfied: typing-extensions in /usr/local/lib/python3.10/dist-packages (from torch>=1.8.1->torchmetrics) (4.6.3)\n",
            "Requirement already satisfied: sympy in /usr/local/lib/python3.10/dist-packages (from torch>=1.8.1->torchmetrics) (1.11.1)\n",
            "Requirement already satisfied: networkx in /usr/local/lib/python3.10/dist-packages (from torch>=1.8.1->torchmetrics) (3.1)\n",
            "Requirement already satisfied: jinja2 in /usr/local/lib/python3.10/dist-packages (from torch>=1.8.1->torchmetrics) (3.1.2)\n",
            "Requirement already satisfied: triton==2.0.0 in /usr/local/lib/python3.10/dist-packages (from torch>=1.8.1->torchmetrics) (2.0.0)\n",
            "Requirement already satisfied: cmake in /usr/local/lib/python3.10/dist-packages (from triton==2.0.0->torch>=1.8.1->torchmetrics) (3.25.2)\n",
            "Requirement already satisfied: lit in /usr/local/lib/python3.10/dist-packages (from triton==2.0.0->torch>=1.8.1->torchmetrics) (16.0.6)\n",
            "Requirement already satisfied: MarkupSafe>=2.0 in /usr/local/lib/python3.10/dist-packages (from jinja2->torch>=1.8.1->torchmetrics) (2.1.3)\n",
            "Requirement already satisfied: mpmath>=0.19 in /usr/local/lib/python3.10/dist-packages (from sympy->torch>=1.8.1->torchmetrics) (1.3.0)\n"
          ]
        }
      ],
      "source": [
        "!pip install rasterio\n",
        "!pip install albumentations\n",
        "!pip install segmentation_models_pytorch\n",
        "!pip install torchmetrics\n",
        "\n",
        "import numpy as np\n",
        "import pandas as pd\n",
        "from matplotlib import pyplot as plt\n",
        "import os\n",
        "import math\n",
        "\n",
        "import torch\n",
        "import torch.nn as nn\n",
        "from torch.utils.data.dataset import Dataset\n",
        "from torch.utils.data import DataLoader\n",
        "\n",
        "import albumentations as A\n",
        "\n",
        "import segmentation_models_pytorch as smp\n",
        "\n",
        "import torchmetrics as tm\n",
        "\n",
        "import rasterio as rio\n",
        "from rasterio.plot import show"
      ]
    },
    {
      "cell_type": "code",
      "source": [
        "device = 'cuda' if torch.cuda.is_available else 'cpu'\n",
        "print(device)"
      ],
      "metadata": {
        "colab": {
          "base_uri": "https://localhost:8080/"
        },
        "id": "ZYJ6ldA3-vpU",
        "outputId": "e6ea3a22-c1c0-4dcf-8f45-850ea264573d"
      },
      "execution_count": 27,
      "outputs": [
        {
          "output_type": "stream",
          "name": "stdout",
          "text": [
            "cuda\n"
          ]
        }
      ]
    },
    {
      "cell_type": "code",
      "source": [
        "def list_files(dir):\n",
        "    r = []\n",
        "    for root, dirs, files in os.walk(dir):\n",
        "        for name in files:\n",
        "            r.append(os.path.join(root, name))\n",
        "    return r"
      ],
      "metadata": {
        "id": "Z1wnOGmmNO4c"
      },
      "execution_count": 28,
      "outputs": []
    },
    {
      "cell_type": "code",
      "source": [
        "all_files = list_files('/content/drive/MyDrive/GIS_ML/test_dataset/Chips/')\n",
        "image_list = [file for file in all_files if ('Feature' in file)]\n",
        "mask_list = [file for file in all_files if ('Mask' in file)]\n",
        "\n",
        "image_list = sorted(image_list)\n",
        "mask_list = sorted(mask_list)\n",
        "\n",
        "print(image_list, mask_list)"
      ],
      "metadata": {
        "colab": {
          "base_uri": "https://localhost:8080/"
        },
        "id": "sXo7GCasNYFU",
        "outputId": "b6de10fc-e248-4037-960a-182c1108b1d8"
      },
      "execution_count": 29,
      "outputs": [
        {
          "output_type": "stream",
          "name": "stdout",
          "text": [
            "['/content/drive/MyDrive/GIS_ML/test_dataset/Chips/Albania1/2016/Feature1_1.tif', '/content/drive/MyDrive/GIS_ML/test_dataset/Chips/Albania1/2016/Feature2_1.tif', '/content/drive/MyDrive/GIS_ML/test_dataset/Chips/Albania1/2016/Feature3_1.tif', '/content/drive/MyDrive/GIS_ML/test_dataset/Chips/Albania1/2016/Feature4_1.tif', '/content/drive/MyDrive/GIS_ML/test_dataset/Chips/Albania1/2017/Feature1_1.tif', '/content/drive/MyDrive/GIS_ML/test_dataset/Chips/Albania1/2017/Feature2_1.tif', '/content/drive/MyDrive/GIS_ML/test_dataset/Chips/Albania1/2017/Feature3_1.tif', '/content/drive/MyDrive/GIS_ML/test_dataset/Chips/Albania1/2017/Feature4_1.tif', '/content/drive/MyDrive/GIS_ML/test_dataset/Chips/Albania1/2018/Feature1_1.tif', '/content/drive/MyDrive/GIS_ML/test_dataset/Chips/Albania1/2018/Feature2_1.tif', '/content/drive/MyDrive/GIS_ML/test_dataset/Chips/Albania1/2018/Feature3_1.tif', '/content/drive/MyDrive/GIS_ML/test_dataset/Chips/Albania1/2018/Feature4_1.tif', '/content/drive/MyDrive/GIS_ML/test_dataset/Chips/Albania1/2019/Feature1_1.tif', '/content/drive/MyDrive/GIS_ML/test_dataset/Chips/Albania1/2019/Feature2_1.tif', '/content/drive/MyDrive/GIS_ML/test_dataset/Chips/Albania1/2019/Feature3_1.tif', '/content/drive/MyDrive/GIS_ML/test_dataset/Chips/Albania1/2019/Feature4_1.tif', '/content/drive/MyDrive/GIS_ML/test_dataset/Chips/Albania1/2020/Feature1_1.tif', '/content/drive/MyDrive/GIS_ML/test_dataset/Chips/Albania1/2020/Feature2_1.tif', '/content/drive/MyDrive/GIS_ML/test_dataset/Chips/Albania1/2020/Feature3_1.tif', '/content/drive/MyDrive/GIS_ML/test_dataset/Chips/Albania1/2020/Feature4_1.tif', '/content/drive/MyDrive/GIS_ML/test_dataset/Chips/Albania1/2021/Feature1_1.tif', '/content/drive/MyDrive/GIS_ML/test_dataset/Chips/Albania1/2021/Feature2_1.tif', '/content/drive/MyDrive/GIS_ML/test_dataset/Chips/Albania1/2021/Feature3_1.tif', '/content/drive/MyDrive/GIS_ML/test_dataset/Chips/Albania1/2021/Feature4_1.tif', '/content/drive/MyDrive/GIS_ML/test_dataset/Chips/Albania2/2016/Feature10_1.tif', '/content/drive/MyDrive/GIS_ML/test_dataset/Chips/Albania2/2016/Feature11_0.tif', '/content/drive/MyDrive/GIS_ML/test_dataset/Chips/Albania2/2016/Feature12_1.tif', '/content/drive/MyDrive/GIS_ML/test_dataset/Chips/Albania2/2016/Feature13_1.tif', '/content/drive/MyDrive/GIS_ML/test_dataset/Chips/Albania2/2016/Feature14_1.tif', '/content/drive/MyDrive/GIS_ML/test_dataset/Chips/Albania2/2016/Feature15_1.tif', '/content/drive/MyDrive/GIS_ML/test_dataset/Chips/Albania2/2016/Feature1_0.tif', '/content/drive/MyDrive/GIS_ML/test_dataset/Chips/Albania2/2016/Feature2_1.tif', '/content/drive/MyDrive/GIS_ML/test_dataset/Chips/Albania2/2016/Feature3_1.tif', '/content/drive/MyDrive/GIS_ML/test_dataset/Chips/Albania2/2016/Feature4_1.tif', '/content/drive/MyDrive/GIS_ML/test_dataset/Chips/Albania2/2016/Feature5_1.tif', '/content/drive/MyDrive/GIS_ML/test_dataset/Chips/Albania2/2016/Feature6_0.tif', '/content/drive/MyDrive/GIS_ML/test_dataset/Chips/Albania2/2016/Feature7_1.tif', '/content/drive/MyDrive/GIS_ML/test_dataset/Chips/Albania2/2016/Feature8_1.tif', '/content/drive/MyDrive/GIS_ML/test_dataset/Chips/Albania2/2016/Feature9_1.tif', '/content/drive/MyDrive/GIS_ML/test_dataset/Chips/Albania2/2017/Feature10_1.tif', '/content/drive/MyDrive/GIS_ML/test_dataset/Chips/Albania2/2017/Feature11_0.tif', '/content/drive/MyDrive/GIS_ML/test_dataset/Chips/Albania2/2017/Feature12_0.tif', '/content/drive/MyDrive/GIS_ML/test_dataset/Chips/Albania2/2017/Feature13_1.tif', '/content/drive/MyDrive/GIS_ML/test_dataset/Chips/Albania2/2017/Feature14_1.tif', '/content/drive/MyDrive/GIS_ML/test_dataset/Chips/Albania2/2017/Feature15_1.tif', '/content/drive/MyDrive/GIS_ML/test_dataset/Chips/Albania2/2017/Feature1_0.tif', '/content/drive/MyDrive/GIS_ML/test_dataset/Chips/Albania2/2017/Feature2_1.tif', '/content/drive/MyDrive/GIS_ML/test_dataset/Chips/Albania2/2017/Feature3_1.tif', '/content/drive/MyDrive/GIS_ML/test_dataset/Chips/Albania2/2017/Feature4_1.tif', '/content/drive/MyDrive/GIS_ML/test_dataset/Chips/Albania2/2017/Feature5_1.tif', '/content/drive/MyDrive/GIS_ML/test_dataset/Chips/Albania2/2017/Feature6_0.tif', '/content/drive/MyDrive/GIS_ML/test_dataset/Chips/Albania2/2017/Feature7_1.tif', '/content/drive/MyDrive/GIS_ML/test_dataset/Chips/Albania2/2017/Feature8_1.tif', '/content/drive/MyDrive/GIS_ML/test_dataset/Chips/Albania2/2017/Feature9_1.tif', '/content/drive/MyDrive/GIS_ML/test_dataset/Chips/Albania2/2018/Feature10_1.tif', '/content/drive/MyDrive/GIS_ML/test_dataset/Chips/Albania2/2018/Feature11_0.tif', '/content/drive/MyDrive/GIS_ML/test_dataset/Chips/Albania2/2018/Feature12_0.tif', '/content/drive/MyDrive/GIS_ML/test_dataset/Chips/Albania2/2018/Feature13_1.tif', '/content/drive/MyDrive/GIS_ML/test_dataset/Chips/Albania2/2018/Feature14_1.tif', '/content/drive/MyDrive/GIS_ML/test_dataset/Chips/Albania2/2018/Feature15_1.tif', '/content/drive/MyDrive/GIS_ML/test_dataset/Chips/Albania2/2018/Feature1_0.tif', '/content/drive/MyDrive/GIS_ML/test_dataset/Chips/Albania2/2018/Feature2_1.tif', '/content/drive/MyDrive/GIS_ML/test_dataset/Chips/Albania2/2018/Feature3_1.tif', '/content/drive/MyDrive/GIS_ML/test_dataset/Chips/Albania2/2018/Feature4_1.tif', '/content/drive/MyDrive/GIS_ML/test_dataset/Chips/Albania2/2018/Feature5_1.tif', '/content/drive/MyDrive/GIS_ML/test_dataset/Chips/Albania2/2018/Feature6_0.tif', '/content/drive/MyDrive/GIS_ML/test_dataset/Chips/Albania2/2018/Feature7_1.tif', '/content/drive/MyDrive/GIS_ML/test_dataset/Chips/Albania2/2018/Feature8_1.tif', '/content/drive/MyDrive/GIS_ML/test_dataset/Chips/Albania2/2018/Feature9_1.tif', '/content/drive/MyDrive/GIS_ML/test_dataset/Chips/Albania2/2019/Feature10_1.tif', '/content/drive/MyDrive/GIS_ML/test_dataset/Chips/Albania2/2019/Feature11_0.tif', '/content/drive/MyDrive/GIS_ML/test_dataset/Chips/Albania2/2019/Feature12_0.tif', '/content/drive/MyDrive/GIS_ML/test_dataset/Chips/Albania2/2019/Feature13_1.tif', '/content/drive/MyDrive/GIS_ML/test_dataset/Chips/Albania2/2019/Feature14_1.tif', '/content/drive/MyDrive/GIS_ML/test_dataset/Chips/Albania2/2019/Feature15_1.tif', '/content/drive/MyDrive/GIS_ML/test_dataset/Chips/Albania2/2019/Feature1_0.tif', '/content/drive/MyDrive/GIS_ML/test_dataset/Chips/Albania2/2019/Feature2_1.tif', '/content/drive/MyDrive/GIS_ML/test_dataset/Chips/Albania2/2019/Feature3_1.tif', '/content/drive/MyDrive/GIS_ML/test_dataset/Chips/Albania2/2019/Feature4_1.tif', '/content/drive/MyDrive/GIS_ML/test_dataset/Chips/Albania2/2019/Feature5_1.tif', '/content/drive/MyDrive/GIS_ML/test_dataset/Chips/Albania2/2019/Feature6_0.tif', '/content/drive/MyDrive/GIS_ML/test_dataset/Chips/Albania2/2019/Feature7_1.tif', '/content/drive/MyDrive/GIS_ML/test_dataset/Chips/Albania2/2019/Feature8_1.tif', '/content/drive/MyDrive/GIS_ML/test_dataset/Chips/Albania2/2019/Feature9_1.tif', '/content/drive/MyDrive/GIS_ML/test_dataset/Chips/Albania2/2020/Feature10_1.tif', '/content/drive/MyDrive/GIS_ML/test_dataset/Chips/Albania2/2020/Feature11_0.tif', '/content/drive/MyDrive/GIS_ML/test_dataset/Chips/Albania2/2020/Feature12_0.tif', '/content/drive/MyDrive/GIS_ML/test_dataset/Chips/Albania2/2020/Feature13_1.tif', '/content/drive/MyDrive/GIS_ML/test_dataset/Chips/Albania2/2020/Feature14_1.tif', '/content/drive/MyDrive/GIS_ML/test_dataset/Chips/Albania2/2020/Feature15_1.tif', '/content/drive/MyDrive/GIS_ML/test_dataset/Chips/Albania2/2020/Feature1_0.tif', '/content/drive/MyDrive/GIS_ML/test_dataset/Chips/Albania2/2020/Feature2_1.tif', '/content/drive/MyDrive/GIS_ML/test_dataset/Chips/Albania2/2020/Feature3_1.tif', '/content/drive/MyDrive/GIS_ML/test_dataset/Chips/Albania2/2020/Feature4_1.tif', '/content/drive/MyDrive/GIS_ML/test_dataset/Chips/Albania2/2020/Feature5_1.tif', '/content/drive/MyDrive/GIS_ML/test_dataset/Chips/Albania2/2020/Feature6_0.tif', '/content/drive/MyDrive/GIS_ML/test_dataset/Chips/Albania2/2020/Feature7_1.tif', '/content/drive/MyDrive/GIS_ML/test_dataset/Chips/Albania2/2020/Feature8_1.tif', '/content/drive/MyDrive/GIS_ML/test_dataset/Chips/Albania2/2020/Feature9_1.tif', '/content/drive/MyDrive/GIS_ML/test_dataset/Chips/Albania2/2021/Feature10_1.tif', '/content/drive/MyDrive/GIS_ML/test_dataset/Chips/Albania2/2021/Feature11_0.tif', '/content/drive/MyDrive/GIS_ML/test_dataset/Chips/Albania2/2021/Feature12_0.tif', '/content/drive/MyDrive/GIS_ML/test_dataset/Chips/Albania2/2021/Feature13_1.tif', '/content/drive/MyDrive/GIS_ML/test_dataset/Chips/Albania2/2021/Feature14_1.tif', '/content/drive/MyDrive/GIS_ML/test_dataset/Chips/Albania2/2021/Feature15_1.tif', '/content/drive/MyDrive/GIS_ML/test_dataset/Chips/Albania2/2021/Feature1_0.tif', '/content/drive/MyDrive/GIS_ML/test_dataset/Chips/Albania2/2021/Feature2_1.tif', '/content/drive/MyDrive/GIS_ML/test_dataset/Chips/Albania2/2021/Feature3_1.tif', '/content/drive/MyDrive/GIS_ML/test_dataset/Chips/Albania2/2021/Feature4_1.tif', '/content/drive/MyDrive/GIS_ML/test_dataset/Chips/Albania2/2021/Feature5_1.tif', '/content/drive/MyDrive/GIS_ML/test_dataset/Chips/Albania2/2021/Feature6_0.tif', '/content/drive/MyDrive/GIS_ML/test_dataset/Chips/Albania2/2021/Feature7_1.tif', '/content/drive/MyDrive/GIS_ML/test_dataset/Chips/Albania2/2021/Feature8_1.tif', '/content/drive/MyDrive/GIS_ML/test_dataset/Chips/Albania2/2021/Feature9_1.tif'] ['/content/drive/MyDrive/GIS_ML/test_dataset/Chips/Albania1/2016/Mask1_1.tif', '/content/drive/MyDrive/GIS_ML/test_dataset/Chips/Albania1/2016/Mask2_1.tif', '/content/drive/MyDrive/GIS_ML/test_dataset/Chips/Albania1/2016/Mask3_1.tif', '/content/drive/MyDrive/GIS_ML/test_dataset/Chips/Albania1/2016/Mask4_1.tif', '/content/drive/MyDrive/GIS_ML/test_dataset/Chips/Albania1/2017/Mask1_1.tif', '/content/drive/MyDrive/GIS_ML/test_dataset/Chips/Albania1/2017/Mask2_1.tif', '/content/drive/MyDrive/GIS_ML/test_dataset/Chips/Albania1/2017/Mask3_1.tif', '/content/drive/MyDrive/GIS_ML/test_dataset/Chips/Albania1/2017/Mask4_1.tif', '/content/drive/MyDrive/GIS_ML/test_dataset/Chips/Albania1/2018/Mask1_1.tif', '/content/drive/MyDrive/GIS_ML/test_dataset/Chips/Albania1/2018/Mask2_1.tif', '/content/drive/MyDrive/GIS_ML/test_dataset/Chips/Albania1/2018/Mask3_1.tif', '/content/drive/MyDrive/GIS_ML/test_dataset/Chips/Albania1/2018/Mask4_1.tif', '/content/drive/MyDrive/GIS_ML/test_dataset/Chips/Albania1/2019/Mask1_1.tif', '/content/drive/MyDrive/GIS_ML/test_dataset/Chips/Albania1/2019/Mask2_1.tif', '/content/drive/MyDrive/GIS_ML/test_dataset/Chips/Albania1/2019/Mask3_1.tif', '/content/drive/MyDrive/GIS_ML/test_dataset/Chips/Albania1/2019/Mask4_1.tif', '/content/drive/MyDrive/GIS_ML/test_dataset/Chips/Albania1/2020/Mask1_1.tif', '/content/drive/MyDrive/GIS_ML/test_dataset/Chips/Albania1/2020/Mask2_1.tif', '/content/drive/MyDrive/GIS_ML/test_dataset/Chips/Albania1/2020/Mask3_1.tif', '/content/drive/MyDrive/GIS_ML/test_dataset/Chips/Albania1/2020/Mask4_1.tif', '/content/drive/MyDrive/GIS_ML/test_dataset/Chips/Albania1/2021/Mask1_1.tif', '/content/drive/MyDrive/GIS_ML/test_dataset/Chips/Albania1/2021/Mask2_1.tif', '/content/drive/MyDrive/GIS_ML/test_dataset/Chips/Albania1/2021/Mask3_1.tif', '/content/drive/MyDrive/GIS_ML/test_dataset/Chips/Albania1/2021/Mask4_1.tif', '/content/drive/MyDrive/GIS_ML/test_dataset/Chips/Albania2/2016/Mask10_1.tif', '/content/drive/MyDrive/GIS_ML/test_dataset/Chips/Albania2/2016/Mask11_0.tif', '/content/drive/MyDrive/GIS_ML/test_dataset/Chips/Albania2/2016/Mask12_1.tif', '/content/drive/MyDrive/GIS_ML/test_dataset/Chips/Albania2/2016/Mask13_1.tif', '/content/drive/MyDrive/GIS_ML/test_dataset/Chips/Albania2/2016/Mask14_1.tif', '/content/drive/MyDrive/GIS_ML/test_dataset/Chips/Albania2/2016/Mask15_1.tif', '/content/drive/MyDrive/GIS_ML/test_dataset/Chips/Albania2/2016/Mask1_0.tif', '/content/drive/MyDrive/GIS_ML/test_dataset/Chips/Albania2/2016/Mask2_1.tif', '/content/drive/MyDrive/GIS_ML/test_dataset/Chips/Albania2/2016/Mask3_1.tif', '/content/drive/MyDrive/GIS_ML/test_dataset/Chips/Albania2/2016/Mask4_1.tif', '/content/drive/MyDrive/GIS_ML/test_dataset/Chips/Albania2/2016/Mask5_1.tif', '/content/drive/MyDrive/GIS_ML/test_dataset/Chips/Albania2/2016/Mask6_0.tif', '/content/drive/MyDrive/GIS_ML/test_dataset/Chips/Albania2/2016/Mask7_1.tif', '/content/drive/MyDrive/GIS_ML/test_dataset/Chips/Albania2/2016/Mask8_1.tif', '/content/drive/MyDrive/GIS_ML/test_dataset/Chips/Albania2/2016/Mask9_1.tif', '/content/drive/MyDrive/GIS_ML/test_dataset/Chips/Albania2/2017/Mask10_1.tif', '/content/drive/MyDrive/GIS_ML/test_dataset/Chips/Albania2/2017/Mask11_0.tif', '/content/drive/MyDrive/GIS_ML/test_dataset/Chips/Albania2/2017/Mask12_0.tif', '/content/drive/MyDrive/GIS_ML/test_dataset/Chips/Albania2/2017/Mask13_1.tif', '/content/drive/MyDrive/GIS_ML/test_dataset/Chips/Albania2/2017/Mask14_1.tif', '/content/drive/MyDrive/GIS_ML/test_dataset/Chips/Albania2/2017/Mask15_1.tif', '/content/drive/MyDrive/GIS_ML/test_dataset/Chips/Albania2/2017/Mask1_0.tif', '/content/drive/MyDrive/GIS_ML/test_dataset/Chips/Albania2/2017/Mask2_1.tif', '/content/drive/MyDrive/GIS_ML/test_dataset/Chips/Albania2/2017/Mask3_1.tif', '/content/drive/MyDrive/GIS_ML/test_dataset/Chips/Albania2/2017/Mask4_1.tif', '/content/drive/MyDrive/GIS_ML/test_dataset/Chips/Albania2/2017/Mask5_1.tif', '/content/drive/MyDrive/GIS_ML/test_dataset/Chips/Albania2/2017/Mask6_0.tif', '/content/drive/MyDrive/GIS_ML/test_dataset/Chips/Albania2/2017/Mask7_1.tif', '/content/drive/MyDrive/GIS_ML/test_dataset/Chips/Albania2/2017/Mask8_1.tif', '/content/drive/MyDrive/GIS_ML/test_dataset/Chips/Albania2/2017/Mask9_1.tif', '/content/drive/MyDrive/GIS_ML/test_dataset/Chips/Albania2/2018/Mask10_1.tif', '/content/drive/MyDrive/GIS_ML/test_dataset/Chips/Albania2/2018/Mask11_0.tif', '/content/drive/MyDrive/GIS_ML/test_dataset/Chips/Albania2/2018/Mask12_0.tif', '/content/drive/MyDrive/GIS_ML/test_dataset/Chips/Albania2/2018/Mask13_1.tif', '/content/drive/MyDrive/GIS_ML/test_dataset/Chips/Albania2/2018/Mask14_1.tif', '/content/drive/MyDrive/GIS_ML/test_dataset/Chips/Albania2/2018/Mask15_1.tif', '/content/drive/MyDrive/GIS_ML/test_dataset/Chips/Albania2/2018/Mask1_0.tif', '/content/drive/MyDrive/GIS_ML/test_dataset/Chips/Albania2/2018/Mask2_1.tif', '/content/drive/MyDrive/GIS_ML/test_dataset/Chips/Albania2/2018/Mask3_1.tif', '/content/drive/MyDrive/GIS_ML/test_dataset/Chips/Albania2/2018/Mask4_1.tif', '/content/drive/MyDrive/GIS_ML/test_dataset/Chips/Albania2/2018/Mask5_1.tif', '/content/drive/MyDrive/GIS_ML/test_dataset/Chips/Albania2/2018/Mask6_0.tif', '/content/drive/MyDrive/GIS_ML/test_dataset/Chips/Albania2/2018/Mask7_1.tif', '/content/drive/MyDrive/GIS_ML/test_dataset/Chips/Albania2/2018/Mask8_1.tif', '/content/drive/MyDrive/GIS_ML/test_dataset/Chips/Albania2/2018/Mask9_1.tif', '/content/drive/MyDrive/GIS_ML/test_dataset/Chips/Albania2/2019/Mask10_1.tif', '/content/drive/MyDrive/GIS_ML/test_dataset/Chips/Albania2/2019/Mask11_0.tif', '/content/drive/MyDrive/GIS_ML/test_dataset/Chips/Albania2/2019/Mask12_0.tif', '/content/drive/MyDrive/GIS_ML/test_dataset/Chips/Albania2/2019/Mask13_1.tif', '/content/drive/MyDrive/GIS_ML/test_dataset/Chips/Albania2/2019/Mask14_1.tif', '/content/drive/MyDrive/GIS_ML/test_dataset/Chips/Albania2/2019/Mask15_1.tif', '/content/drive/MyDrive/GIS_ML/test_dataset/Chips/Albania2/2019/Mask1_0.tif', '/content/drive/MyDrive/GIS_ML/test_dataset/Chips/Albania2/2019/Mask2_1.tif', '/content/drive/MyDrive/GIS_ML/test_dataset/Chips/Albania2/2019/Mask3_1.tif', '/content/drive/MyDrive/GIS_ML/test_dataset/Chips/Albania2/2019/Mask4_1.tif', '/content/drive/MyDrive/GIS_ML/test_dataset/Chips/Albania2/2019/Mask5_1.tif', '/content/drive/MyDrive/GIS_ML/test_dataset/Chips/Albania2/2019/Mask6_0.tif', '/content/drive/MyDrive/GIS_ML/test_dataset/Chips/Albania2/2019/Mask7_1.tif', '/content/drive/MyDrive/GIS_ML/test_dataset/Chips/Albania2/2019/Mask8_1.tif', '/content/drive/MyDrive/GIS_ML/test_dataset/Chips/Albania2/2019/Mask9_1.tif', '/content/drive/MyDrive/GIS_ML/test_dataset/Chips/Albania2/2020/Mask10_1.tif', '/content/drive/MyDrive/GIS_ML/test_dataset/Chips/Albania2/2020/Mask11_0.tif', '/content/drive/MyDrive/GIS_ML/test_dataset/Chips/Albania2/2020/Mask12_0.tif', '/content/drive/MyDrive/GIS_ML/test_dataset/Chips/Albania2/2020/Mask13_1.tif', '/content/drive/MyDrive/GIS_ML/test_dataset/Chips/Albania2/2020/Mask14_1.tif', '/content/drive/MyDrive/GIS_ML/test_dataset/Chips/Albania2/2020/Mask15_1.tif', '/content/drive/MyDrive/GIS_ML/test_dataset/Chips/Albania2/2020/Mask1_0.tif', '/content/drive/MyDrive/GIS_ML/test_dataset/Chips/Albania2/2020/Mask2_1.tif', '/content/drive/MyDrive/GIS_ML/test_dataset/Chips/Albania2/2020/Mask3_1.tif', '/content/drive/MyDrive/GIS_ML/test_dataset/Chips/Albania2/2020/Mask4_1.tif', '/content/drive/MyDrive/GIS_ML/test_dataset/Chips/Albania2/2020/Mask5_1.tif', '/content/drive/MyDrive/GIS_ML/test_dataset/Chips/Albania2/2020/Mask6_0.tif', '/content/drive/MyDrive/GIS_ML/test_dataset/Chips/Albania2/2020/Mask7_1.tif', '/content/drive/MyDrive/GIS_ML/test_dataset/Chips/Albania2/2020/Mask8_1.tif', '/content/drive/MyDrive/GIS_ML/test_dataset/Chips/Albania2/2020/Mask9_1.tif', '/content/drive/MyDrive/GIS_ML/test_dataset/Chips/Albania2/2021/Mask10_1.tif', '/content/drive/MyDrive/GIS_ML/test_dataset/Chips/Albania2/2021/Mask11_0.tif', '/content/drive/MyDrive/GIS_ML/test_dataset/Chips/Albania2/2021/Mask12_0.tif', '/content/drive/MyDrive/GIS_ML/test_dataset/Chips/Albania2/2021/Mask13_1.tif', '/content/drive/MyDrive/GIS_ML/test_dataset/Chips/Albania2/2021/Mask14_1.tif', '/content/drive/MyDrive/GIS_ML/test_dataset/Chips/Albania2/2021/Mask15_1.tif', '/content/drive/MyDrive/GIS_ML/test_dataset/Chips/Albania2/2021/Mask1_0.tif', '/content/drive/MyDrive/GIS_ML/test_dataset/Chips/Albania2/2021/Mask2_1.tif', '/content/drive/MyDrive/GIS_ML/test_dataset/Chips/Albania2/2021/Mask3_1.tif', '/content/drive/MyDrive/GIS_ML/test_dataset/Chips/Albania2/2021/Mask4_1.tif', '/content/drive/MyDrive/GIS_ML/test_dataset/Chips/Albania2/2021/Mask5_1.tif', '/content/drive/MyDrive/GIS_ML/test_dataset/Chips/Albania2/2021/Mask6_0.tif', '/content/drive/MyDrive/GIS_ML/test_dataset/Chips/Albania2/2021/Mask7_1.tif', '/content/drive/MyDrive/GIS_ML/test_dataset/Chips/Albania2/2021/Mask8_1.tif', '/content/drive/MyDrive/GIS_ML/test_dataset/Chips/Albania2/2021/Mask9_1.tif']\n"
          ]
        }
      ]
    },
    {
      "cell_type": "code",
      "source": [
        "SPLITTED_DATA = '/content/splitted'\n",
        "os.makedirs(SPLITTED_DATA, exist_ok = True)"
      ],
      "metadata": {
        "id": "8u2cynPCi42V"
      },
      "execution_count": 30,
      "outputs": []
    },
    {
      "cell_type": "code",
      "source": [
        "df = pd.DataFrame(list(zip(image_list, mask_list)),\n",
        "                  columns=['image_path','mask_path'])"
      ],
      "metadata": {
        "id": "wDSt1CgWY7Ci"
      },
      "execution_count": 31,
      "outputs": []
    },
    {
      "cell_type": "code",
      "source": [
        "df.head()"
      ],
      "metadata": {
        "colab": {
          "base_uri": "https://localhost:8080/",
          "height": 206
        },
        "id": "yVm4hkOt1RHu",
        "outputId": "d6804f59-016c-4a03-a272-8ec5bd76d21f"
      },
      "execution_count": 32,
      "outputs": [
        {
          "output_type": "execute_result",
          "data": {
            "text/plain": [
              "                                          image_path  \\\n",
              "0  /content/drive/MyDrive/GIS_ML/test_dataset/Chi...   \n",
              "1  /content/drive/MyDrive/GIS_ML/test_dataset/Chi...   \n",
              "2  /content/drive/MyDrive/GIS_ML/test_dataset/Chi...   \n",
              "3  /content/drive/MyDrive/GIS_ML/test_dataset/Chi...   \n",
              "4  /content/drive/MyDrive/GIS_ML/test_dataset/Chi...   \n",
              "\n",
              "                                           mask_path  \n",
              "0  /content/drive/MyDrive/GIS_ML/test_dataset/Chi...  \n",
              "1  /content/drive/MyDrive/GIS_ML/test_dataset/Chi...  \n",
              "2  /content/drive/MyDrive/GIS_ML/test_dataset/Chi...  \n",
              "3  /content/drive/MyDrive/GIS_ML/test_dataset/Chi...  \n",
              "4  /content/drive/MyDrive/GIS_ML/test_dataset/Chi...  "
            ],
            "text/html": [
              "\n",
              "  <div id=\"df-84ee5948-a2fe-48cb-9124-978edbfdd1ea\">\n",
              "    <div class=\"colab-df-container\">\n",
              "      <div>\n",
              "<style scoped>\n",
              "    .dataframe tbody tr th:only-of-type {\n",
              "        vertical-align: middle;\n",
              "    }\n",
              "\n",
              "    .dataframe tbody tr th {\n",
              "        vertical-align: top;\n",
              "    }\n",
              "\n",
              "    .dataframe thead th {\n",
              "        text-align: right;\n",
              "    }\n",
              "</style>\n",
              "<table border=\"1\" class=\"dataframe\">\n",
              "  <thead>\n",
              "    <tr style=\"text-align: right;\">\n",
              "      <th></th>\n",
              "      <th>image_path</th>\n",
              "      <th>mask_path</th>\n",
              "    </tr>\n",
              "  </thead>\n",
              "  <tbody>\n",
              "    <tr>\n",
              "      <th>0</th>\n",
              "      <td>/content/drive/MyDrive/GIS_ML/test_dataset/Chi...</td>\n",
              "      <td>/content/drive/MyDrive/GIS_ML/test_dataset/Chi...</td>\n",
              "    </tr>\n",
              "    <tr>\n",
              "      <th>1</th>\n",
              "      <td>/content/drive/MyDrive/GIS_ML/test_dataset/Chi...</td>\n",
              "      <td>/content/drive/MyDrive/GIS_ML/test_dataset/Chi...</td>\n",
              "    </tr>\n",
              "    <tr>\n",
              "      <th>2</th>\n",
              "      <td>/content/drive/MyDrive/GIS_ML/test_dataset/Chi...</td>\n",
              "      <td>/content/drive/MyDrive/GIS_ML/test_dataset/Chi...</td>\n",
              "    </tr>\n",
              "    <tr>\n",
              "      <th>3</th>\n",
              "      <td>/content/drive/MyDrive/GIS_ML/test_dataset/Chi...</td>\n",
              "      <td>/content/drive/MyDrive/GIS_ML/test_dataset/Chi...</td>\n",
              "    </tr>\n",
              "    <tr>\n",
              "      <th>4</th>\n",
              "      <td>/content/drive/MyDrive/GIS_ML/test_dataset/Chi...</td>\n",
              "      <td>/content/drive/MyDrive/GIS_ML/test_dataset/Chi...</td>\n",
              "    </tr>\n",
              "  </tbody>\n",
              "</table>\n",
              "</div>\n",
              "      <button class=\"colab-df-convert\" onclick=\"convertToInteractive('df-84ee5948-a2fe-48cb-9124-978edbfdd1ea')\"\n",
              "              title=\"Convert this dataframe to an interactive table.\"\n",
              "              style=\"display:none;\">\n",
              "        \n",
              "  <svg xmlns=\"http://www.w3.org/2000/svg\" height=\"24px\"viewBox=\"0 0 24 24\"\n",
              "       width=\"24px\">\n",
              "    <path d=\"M0 0h24v24H0V0z\" fill=\"none\"/>\n",
              "    <path d=\"M18.56 5.44l.94 2.06.94-2.06 2.06-.94-2.06-.94-.94-2.06-.94 2.06-2.06.94zm-11 1L8.5 8.5l.94-2.06 2.06-.94-2.06-.94L8.5 2.5l-.94 2.06-2.06.94zm10 10l.94 2.06.94-2.06 2.06-.94-2.06-.94-.94-2.06-.94 2.06-2.06.94z\"/><path d=\"M17.41 7.96l-1.37-1.37c-.4-.4-.92-.59-1.43-.59-.52 0-1.04.2-1.43.59L10.3 9.45l-7.72 7.72c-.78.78-.78 2.05 0 2.83L4 21.41c.39.39.9.59 1.41.59.51 0 1.02-.2 1.41-.59l7.78-7.78 2.81-2.81c.8-.78.8-2.07 0-2.86zM5.41 20L4 18.59l7.72-7.72 1.47 1.35L5.41 20z\"/>\n",
              "  </svg>\n",
              "      </button>\n",
              "      \n",
              "  <style>\n",
              "    .colab-df-container {\n",
              "      display:flex;\n",
              "      flex-wrap:wrap;\n",
              "      gap: 12px;\n",
              "    }\n",
              "\n",
              "    .colab-df-convert {\n",
              "      background-color: #E8F0FE;\n",
              "      border: none;\n",
              "      border-radius: 50%;\n",
              "      cursor: pointer;\n",
              "      display: none;\n",
              "      fill: #1967D2;\n",
              "      height: 32px;\n",
              "      padding: 0 0 0 0;\n",
              "      width: 32px;\n",
              "    }\n",
              "\n",
              "    .colab-df-convert:hover {\n",
              "      background-color: #E2EBFA;\n",
              "      box-shadow: 0px 1px 2px rgba(60, 64, 67, 0.3), 0px 1px 3px 1px rgba(60, 64, 67, 0.15);\n",
              "      fill: #174EA6;\n",
              "    }\n",
              "\n",
              "    [theme=dark] .colab-df-convert {\n",
              "      background-color: #3B4455;\n",
              "      fill: #D2E3FC;\n",
              "    }\n",
              "\n",
              "    [theme=dark] .colab-df-convert:hover {\n",
              "      background-color: #434B5C;\n",
              "      box-shadow: 0px 1px 3px 1px rgba(0, 0, 0, 0.15);\n",
              "      filter: drop-shadow(0px 1px 2px rgba(0, 0, 0, 0.3));\n",
              "      fill: #FFFFFF;\n",
              "    }\n",
              "  </style>\n",
              "\n",
              "      <script>\n",
              "        const buttonEl =\n",
              "          document.querySelector('#df-84ee5948-a2fe-48cb-9124-978edbfdd1ea button.colab-df-convert');\n",
              "        buttonEl.style.display =\n",
              "          google.colab.kernel.accessAllowed ? 'block' : 'none';\n",
              "\n",
              "        async function convertToInteractive(key) {\n",
              "          const element = document.querySelector('#df-84ee5948-a2fe-48cb-9124-978edbfdd1ea');\n",
              "          const dataTable =\n",
              "            await google.colab.kernel.invokeFunction('convertToInteractive',\n",
              "                                                     [key], {});\n",
              "          if (!dataTable) return;\n",
              "\n",
              "          const docLinkHtml = 'Like what you see? Visit the ' +\n",
              "            '<a target=\"_blank\" href=https://colab.research.google.com/notebooks/data_table.ipynb>data table notebook</a>'\n",
              "            + ' to learn more about interactive tables.';\n",
              "          element.innerHTML = '';\n",
              "          dataTable['output_type'] = 'display_data';\n",
              "          await google.colab.output.renderOutput(dataTable, element);\n",
              "          const docLink = document.createElement('div');\n",
              "          docLink.innerHTML = docLinkHtml;\n",
              "          element.appendChild(docLink);\n",
              "        }\n",
              "      </script>\n",
              "    </div>\n",
              "  </div>\n",
              "  "
            ]
          },
          "metadata": {},
          "execution_count": 32
        }
      ]
    },
    {
      "cell_type": "code",
      "source": [
        "train = df.sample(frac=0.7,random_state=101)\n",
        "leftovers = df.drop(train.index)\n",
        "test = leftovers.sample(frac=0.5,random_state=101)\n",
        "val = leftovers.drop(test.index)"
      ],
      "metadata": {
        "id": "--JuSBz2Zcoo"
      },
      "execution_count": 33,
      "outputs": []
    },
    {
      "cell_type": "code",
      "source": [
        "print(len(train),len(test),len(val))"
      ],
      "metadata": {
        "colab": {
          "base_uri": "https://localhost:8080/"
        },
        "id": "R_SEQe_bioGO",
        "outputId": "fec0f558-4ad6-434f-e0a8-afd44d4def01"
      },
      "execution_count": 34,
      "outputs": [
        {
          "output_type": "stream",
          "name": "stdout",
          "text": [
            "80 17 17\n"
          ]
        }
      ]
    },
    {
      "cell_type": "code",
      "source": [
        "train.to_csv(SPLITTED_DATA+\"/mytrain.csv\", index=False)\n",
        "test.to_csv(SPLITTED_DATA+\"/mytest.csv\", index=False)\n",
        "val.to_csv(SPLITTED_DATA+\"/myval.csv\", index=False)"
      ],
      "metadata": {
        "id": "pC1gx9Pdi1De"
      },
      "execution_count": 35,
      "outputs": []
    },
    {
      "cell_type": "code",
      "source": [
        "train = pd.read_csv(SPLITTED_DATA+\"/mytrain.csv\")\n",
        "test = pd.read_csv(SPLITTED_DATA+\"/mytest.csv\")\n",
        "val = pd.read_csv(SPLITTED_DATA+\"/myval.csv\")"
      ],
      "metadata": {
        "id": "7yETJniTEJ7h"
      },
      "execution_count": 217,
      "outputs": []
    },
    {
      "cell_type": "code",
      "source": [
        "# Subclass and define custom dataset ===========================\n",
        "class AlbaniaDataset(Dataset):\n",
        "\n",
        "    def __init__(self, df, transform=None):\n",
        "        self.df = df\n",
        "        self.transform = transform\n",
        "\n",
        "    def __getitem__(self, idx):\n",
        "        image_name = self.df.iloc[idx, 0]\n",
        "        mask_name = self.df.iloc[idx, 1]\n",
        "        image_source = rio.open(image_name)\n",
        "        image = image_source.read()\n",
        "        image_source.close\n",
        "        image = image[[1,2,3,4,5,6,7,8,9,10,11,12],:,:]\n",
        "        mask_source = rio.open(mask_name)\n",
        "        mask = mask_source.read()\n",
        "        mask_source.close()\n",
        "        image = image.astype('float32')\n",
        "        mask = mask.astype('float32')\n",
        "\n",
        "        if(self.transform is not None):\n",
        "            transformed = self.transform(image=image, mask=mask)\n",
        "            image = transformed[\"image\"]\n",
        "            mask = transformed[\"mask\"]\n",
        "            image = torch.from_numpy(image.copy())\n",
        "            mask = torch.from_numpy(mask.copy())\n",
        "            image = image.float()/255\n",
        "            mask = mask.float()\n",
        "            mask = mask.squeeze().long()\n",
        "        else:\n",
        "            image = torch.from_numpy(image.copy())\n",
        "            mask = torch.from_numpy(mask.copy())\n",
        "            image = image.float()/255\n",
        "            mask = mask.float()\n",
        "            mask = mask.squeeze().long()\n",
        "        return image, mask\n",
        "    def __len__(self):\n",
        "        return len(self.df)"
      ],
      "metadata": {
        "id": "zySW6ao8_K38"
      },
      "execution_count": 218,
      "outputs": []
    },
    {
      "cell_type": "code",
      "source": [
        "train_transform = A.Compose(\n",
        "    [\n",
        "        A.RandomBrightnessContrast(brightness_limit=0.3, contrast_limit=0.3, p=0.5),\n",
        "        A.HorizontalFlip(p=0.5),\n",
        "        A.VerticalFlip(p=0.5),\n",
        "        A.MedianBlur(blur_limit=3, always_apply=False, p=0.1),\n",
        "    ]\n",
        ")"
      ],
      "metadata": {
        "id": "lwkYRCnmG1fo"
      },
      "execution_count": 219,
      "outputs": []
    },
    {
      "cell_type": "code",
      "source": [
        "train_dataset = AlbaniaDataset(train, transform=train_transform)\n",
        "validation_dataset = AlbaniaDataset(val, transform=None)\n",
        "print(\"Number of Training Samples: \" + str(len(train_dataset)) + \" Number of Validation Samples: \" + str(len(validation_dataset)))"
      ],
      "metadata": {
        "colab": {
          "base_uri": "https://localhost:8080/"
        },
        "id": "KBTR7fJsG6Lq",
        "outputId": "378e1a31-ab39-44a7-a143-820f70460d18"
      },
      "execution_count": 220,
      "outputs": [
        {
          "output_type": "stream",
          "name": "stdout",
          "text": [
            "Number of Training Samples: 80 Number of Validation Samples: 17\n"
          ]
        }
      ]
    },
    {
      "cell_type": "code",
      "source": [
        "train_dataloader = DataLoader(train_dataset, batch_size=4, shuffle=True, num_workers=0, drop_last=True)\n",
        "validation_dataloader = DataLoader(validation_dataset, batch_size=4, shuffle=False, num_workers=0, drop_last=True)"
      ],
      "metadata": {
        "id": "Ms7DDnAPL2cf"
      },
      "execution_count": 221,
      "outputs": []
    },
    {
      "cell_type": "code",
      "source": [
        "encoder = \"resnet18\"\n",
        "encoder_weights = None\n",
        "activation = None"
      ],
      "metadata": {
        "id": "r9ezMOpTMACl"
      },
      "execution_count": 222,
      "outputs": []
    },
    {
      "cell_type": "code",
      "source": [
        "model = smp.DeepLabV3Plus(\n",
        "    encoder_name=encoder,\n",
        "    encoder_weights=encoder_weights,\n",
        "    classes=2,\n",
        "    activation=activation,\n",
        ")"
      ],
      "metadata": {
        "id": "963ekNIyMQCi"
      },
      "execution_count": 223,
      "outputs": []
    },
    {
      "cell_type": "code",
      "source": [
        "model.encoder.conv1 = nn.Conv2d(12, 64, kernel_size=7, stride=2, padding=3, bias=False)"
      ],
      "metadata": {
        "id": "pZktu1ImcKbN"
      },
      "execution_count": 224,
      "outputs": []
    },
    {
      "cell_type": "code",
      "source": [
        "model = model.to(device)"
      ],
      "metadata": {
        "id": "xBECckEuLX9s"
      },
      "execution_count": 225,
      "outputs": []
    },
    {
      "cell_type": "code",
      "source": [
        "next(model.parameters()).is_cuda"
      ],
      "metadata": {
        "colab": {
          "base_uri": "https://localhost:8080/"
        },
        "id": "N_AwPanFLUJ5",
        "outputId": "7ab95687-2cc2-4721-85ea-b3dac8cf7c9a"
      },
      "execution_count": 226,
      "outputs": [
        {
          "output_type": "execute_result",
          "data": {
            "text/plain": [
              "True"
            ]
          },
          "metadata": {},
          "execution_count": 226
        }
      ]
    },
    {
      "cell_type": "code",
      "source": [
        "criterion = nn.CrossEntropyLoss()\n",
        "optimizer = torch.optim.AdamW(model.parameters(), lr=0.0001)"
      ],
      "metadata": {
        "id": "Q0-3VnH8MSLr"
      },
      "execution_count": 227,
      "outputs": []
    },
    {
      "cell_type": "code",
      "source": [
        "acc = tm.Accuracy(task=\"multiclass\", average=\"macro\", num_classes=2).to(device)\n",
        "f1 = tm.F1Score(task=\"multiclass\", average=\"macro\", num_classes=2).to(device)\n",
        "kappa = tm.CohenKappa(task=\"multiclass\", average = \"macro\", num_classes=2).to(device)"
      ],
      "metadata": {
        "id": "OxJlK-R_SSMv"
      },
      "execution_count": 237,
      "outputs": []
    },
    {
      "cell_type": "code",
      "source": [
        "epochs = 50\n",
        "saveFolder = \"\""
      ],
      "metadata": {
        "id": "nRM9GO_ySW1F"
      },
      "execution_count": 238,
      "outputs": []
    },
    {
      "cell_type": "code",
      "source": [
        "#https://github.com/qubvel/segmentation_models.pytorch/issues/79\n",
        "def freeze_encoder(model):\n",
        "    for child in model.encoder.children():\n",
        "        for param in child.parameters():\n",
        "            param.requires_grad = False\n",
        "    return\n",
        "\n",
        "def unfreeze(model):\n",
        "    for child in model.children():\n",
        "        for param in child.parameters():\n",
        "            param.requires_grad = True\n",
        "    return"
      ],
      "metadata": {
        "id": "tHcxDCh2SZma"
      },
      "execution_count": 239,
      "outputs": []
    },
    {
      "cell_type": "code",
      "source": [
        "eNum = []\n",
        "t_loss = []\n",
        "t_acc = []\n",
        "t_f1 = []\n",
        "t_kappa = []\n",
        "v_loss = []\n",
        "v_acc = []\n",
        "v_f1 = []\n",
        "v_kappa = []\n",
        "\n",
        "f1VMax = 0.0\n",
        "\n",
        "# Loop over epochs\n",
        "for epoch in range(1, epochs+1):\n",
        "    # Loop over training batches\n",
        "    for batch_idx, (inputs, targets) in enumerate(train_dataloader):\n",
        "        # Get data and move to device\n",
        "        inputs, targets = inputs.to(device), targets.to(device)\n",
        "\n",
        "        # Clear gradients\n",
        "        optimizer.zero_grad()\n",
        "        # Predict data\n",
        "        outputs = model(inputs)\n",
        "        # Calculate loss\n",
        "        loss = criterion(outputs, targets)\n",
        "\n",
        "        # Calculate metrics\n",
        "        accT = acc(outputs, targets)\n",
        "        f1T = f1(outputs, targets)\n",
        "        kappaT = kappa(outputs, targets)\n",
        "\n",
        "        # Backpropagate\n",
        "        loss.backward()\n",
        "\n",
        "        # Update parameters\n",
        "        optimizer.step()\n",
        "\n",
        "    # Accumulate metrics at end of training epoch\n",
        "    accT = acc.compute()\n",
        "    f1T = f1.compute()\n",
        "    kappaT = kappa.compute()\n",
        "\n",
        "    # Print Losses and metrics at end of each training epoch\n",
        "    print(f'Epoch: {epoch}, Training Loss: {loss.item():.4f}, Training Accuracy: {accT:.4f}, Training F1: {f1T:.4f}, Training Kappa: {kappaT:.4f}')\n",
        "\n",
        "    # Append results\n",
        "    eNum.append(epoch)\n",
        "    t_loss.append(loss.item())\n",
        "    t_acc.append(accT.detach().cpu().numpy())\n",
        "    t_f1.append(f1T.detach().cpu().numpy())\n",
        "    t_kappa.append(kappaT.detach().cpu().numpy())\n",
        "\n",
        "    # Reset metrics\n",
        "    acc.reset()\n",
        "    f1.reset()\n",
        "    kappa.reset()\n",
        "\n",
        "    # loop over validation batches\n",
        "    with torch.no_grad():\n",
        "        for batch_idx, (inputs, targets) in enumerate(validation_dataloader):\n",
        "            # Get data and move to device\n",
        "            inputs, targets = inputs.to(device), targets.to(device)\n",
        "\n",
        "            # Predict data\n",
        "            outputs = model(inputs)\n",
        "            # Calculate validation loss\n",
        "            loss_v = criterion(outputs, targets)\n",
        "\n",
        "            # Calculate metrics\n",
        "            accV = acc(outputs, targets)\n",
        "            f1V = f1(outputs, targets)\n",
        "            kappaV = kappa(outputs, targets)\n",
        "\n",
        "    # Accumulate metrics at end of validation epoch\n",
        "    accV = acc.compute()\n",
        "    f1V = f1.compute()\n",
        "    kappaV = kappa.compute()\n",
        "\n",
        "    # Print validation loss and metrics\n",
        "    print(f'Validation Loss: {loss_v.item():.4f}, Validation Accuracy: {accV:.4f}, Validation F1: {f1V:.4f}, Validation Kappa: {kappaV:.4f}')\n",
        "\n",
        "    # Append results\n",
        "    v_loss.append(loss_v.item())\n",
        "    v_acc.append(accV.detach().cpu().numpy())\n",
        "    v_f1.append(f1V.detach().cpu().numpy())\n",
        "    v_kappa.append(kappaV.detach().cpu().numpy())\n",
        "\n",
        "    # Reset metrics\n",
        "    acc.reset()\n",
        "    f1.reset()\n",
        "    kappa.reset()\n",
        "\n",
        "    # Save model if validation F1-score improves\n",
        "    f1V2 = f1V.detach().cpu().numpy()\n",
        "    if f1V2 > f1VMax:\n",
        "        f1VMax = f1V2\n",
        "        torch.save(model.state_dict(), saveFolder + 'Albania_model_Dlv3p.pt')\n",
        "        print(f'Model saved for epoch {epoch}.')"
      ],
      "metadata": {
        "colab": {
          "base_uri": "https://localhost:8080/"
        },
        "id": "S4UFjEsqSkBp",
        "outputId": "a0166a2b-9986-4892-b307-9d39131ed4e4"
      },
      "execution_count": 240,
      "outputs": [
        {
          "output_type": "stream",
          "name": "stdout",
          "text": [
            "Epoch: 1, Training Loss: 0.1257, Training Accuracy: 0.6494, Training F1: 0.7128, Training Kappa: 0.4303\n",
            "Validation Loss: 0.0564, Validation Accuracy: 0.9177, Validation F1: 0.8684, Validation Kappa: 0.7369\n",
            "Model saved for epoch 1.\n",
            "Epoch: 2, Training Loss: 0.1145, Training Accuracy: 0.7149, Training F1: 0.7801, Training Kappa: 0.5621\n",
            "Validation Loss: 0.0576, Validation Accuracy: 0.9200, Validation F1: 0.8699, Validation Kappa: 0.7398\n",
            "Model saved for epoch 2.\n",
            "Epoch: 3, Training Loss: 0.0643, Training Accuracy: 0.6895, Training F1: 0.7581, Training Kappa: 0.5191\n",
            "Validation Loss: 0.0508, Validation Accuracy: 0.9374, Validation F1: 0.8656, Validation Kappa: 0.7314\n",
            "Epoch: 4, Training Loss: 0.1950, Training Accuracy: 0.6504, Training F1: 0.7157, Training Kappa: 0.4362\n",
            "Validation Loss: 0.0516, Validation Accuracy: 0.9420, Validation F1: 0.8809, Validation Kappa: 0.7619\n",
            "Model saved for epoch 4.\n",
            "Epoch: 5, Training Loss: 0.2793, Training Accuracy: 0.6783, Training F1: 0.7454, Training Kappa: 0.4940\n",
            "Validation Loss: 0.0491, Validation Accuracy: 0.9332, Validation F1: 0.8721, Validation Kappa: 0.7444\n",
            "Epoch: 6, Training Loss: 0.1417, Training Accuracy: 0.7397, Training F1: 0.8050, Training Kappa: 0.6115\n",
            "Validation Loss: 0.0483, Validation Accuracy: 0.9314, Validation F1: 0.9068, Validation Kappa: 0.8136\n",
            "Model saved for epoch 6.\n",
            "Epoch: 7, Training Loss: 0.0886, Training Accuracy: 0.6862, Training F1: 0.7542, Training Kappa: 0.5114\n",
            "Validation Loss: 0.0498, Validation Accuracy: 0.9233, Validation F1: 0.8857, Validation Kappa: 0.7714\n",
            "Epoch: 8, Training Loss: 0.1799, Training Accuracy: 0.6770, Training F1: 0.7452, Training Kappa: 0.4938\n",
            "Validation Loss: 0.0459, Validation Accuracy: 0.9395, Validation F1: 0.8750, Validation Kappa: 0.7501\n",
            "Epoch: 9, Training Loss: 0.1225, Training Accuracy: 0.6824, Training F1: 0.7510, Training Kappa: 0.5052\n",
            "Validation Loss: 0.0454, Validation Accuracy: 0.9309, Validation F1: 0.8925, Validation Kappa: 0.7850\n",
            "Epoch: 10, Training Loss: 0.0985, Training Accuracy: 0.7598, Training F1: 0.8230, Training Kappa: 0.6470\n",
            "Validation Loss: 0.0414, Validation Accuracy: 0.9438, Validation F1: 0.8954, Validation Kappa: 0.7910\n",
            "Epoch: 11, Training Loss: 0.0798, Training Accuracy: 0.6841, Training F1: 0.7539, Training Kappa: 0.5110\n",
            "Validation Loss: 0.0393, Validation Accuracy: 0.9544, Validation F1: 0.8604, Validation Kappa: 0.7210\n",
            "Epoch: 12, Training Loss: 0.2412, Training Accuracy: 0.7583, Training F1: 0.8193, Training Kappa: 0.6397\n",
            "Validation Loss: 0.0387, Validation Accuracy: 0.9476, Validation F1: 0.9014, Validation Kappa: 0.8028\n",
            "Epoch: 13, Training Loss: 0.2119, Training Accuracy: 0.7313, Training F1: 0.7981, Training Kappa: 0.5978\n",
            "Validation Loss: 0.0387, Validation Accuracy: 0.9634, Validation F1: 0.8846, Validation Kappa: 0.7694\n",
            "Epoch: 14, Training Loss: 0.1180, Training Accuracy: 0.7333, Training F1: 0.8007, Training Kappa: 0.6031\n",
            "Validation Loss: 0.0393, Validation Accuracy: 0.9558, Validation F1: 0.8845, Validation Kappa: 0.7692\n",
            "Epoch: 15, Training Loss: 0.1936, Training Accuracy: 0.6836, Training F1: 0.7523, Training Kappa: 0.5079\n",
            "Validation Loss: 0.0414, Validation Accuracy: 0.9376, Validation F1: 0.9094, Validation Kappa: 0.8188\n",
            "Model saved for epoch 15.\n",
            "Epoch: 16, Training Loss: 0.1747, Training Accuracy: 0.7029, Training F1: 0.7718, Training Kappa: 0.5460\n",
            "Validation Loss: 0.0398, Validation Accuracy: 0.9544, Validation F1: 0.8941, Validation Kappa: 0.7883\n",
            "Epoch: 17, Training Loss: 0.2661, Training Accuracy: 0.7304, Training F1: 0.7991, Training Kappa: 0.6000\n",
            "Validation Loss: 0.0359, Validation Accuracy: 0.9644, Validation F1: 0.8844, Validation Kappa: 0.7689\n",
            "Epoch: 18, Training Loss: 0.1968, Training Accuracy: 0.6873, Training F1: 0.7557, Training Kappa: 0.5143\n",
            "Validation Loss: 0.0354, Validation Accuracy: 0.9546, Validation F1: 0.8959, Validation Kappa: 0.7918\n",
            "Epoch: 19, Training Loss: 0.1536, Training Accuracy: 0.7245, Training F1: 0.7941, Training Kappa: 0.5901\n",
            "Validation Loss: 0.0358, Validation Accuracy: 0.9533, Validation F1: 0.9219, Validation Kappa: 0.8438\n",
            "Model saved for epoch 19.\n",
            "Epoch: 20, Training Loss: 0.1651, Training Accuracy: 0.7236, Training F1: 0.7911, Training Kappa: 0.5840\n",
            "Validation Loss: 0.0364, Validation Accuracy: 0.9531, Validation F1: 0.9222, Validation Kappa: 0.8443\n",
            "Model saved for epoch 20.\n",
            "Epoch: 21, Training Loss: 0.0656, Training Accuracy: 0.6804, Training F1: 0.7508, Training Kappa: 0.5051\n",
            "Validation Loss: 0.0357, Validation Accuracy: 0.9589, Validation F1: 0.9278, Validation Kappa: 0.8557\n",
            "Model saved for epoch 21.\n",
            "Epoch: 22, Training Loss: 0.1320, Training Accuracy: 0.7873, Training F1: 0.8466, Training Kappa: 0.6938\n",
            "Validation Loss: 0.0324, Validation Accuracy: 0.9472, Validation F1: 0.9117, Validation Kappa: 0.8234\n",
            "Epoch: 23, Training Loss: 0.0423, Training Accuracy: 0.7178, Training F1: 0.7881, Training Kappa: 0.5784\n",
            "Validation Loss: 0.0339, Validation Accuracy: 0.9597, Validation F1: 0.9255, Validation Kappa: 0.8511\n",
            "Epoch: 24, Training Loss: 0.1428, Training Accuracy: 0.7230, Training F1: 0.7932, Training Kappa: 0.5884\n",
            "Validation Loss: 0.0340, Validation Accuracy: 0.9386, Validation F1: 0.9375, Validation Kappa: 0.8749\n",
            "Model saved for epoch 24.\n",
            "Epoch: 25, Training Loss: 0.0361, Training Accuracy: 0.6633, Training F1: 0.7315, Training Kappa: 0.4673\n",
            "Validation Loss: 0.0307, Validation Accuracy: 0.9611, Validation F1: 0.9279, Validation Kappa: 0.8559\n",
            "Epoch: 26, Training Loss: 0.0337, Training Accuracy: 0.7929, Training F1: 0.8521, Training Kappa: 0.7048\n",
            "Validation Loss: 0.0300, Validation Accuracy: 0.9616, Validation F1: 0.9223, Validation Kappa: 0.8446\n",
            "Epoch: 27, Training Loss: 0.1540, Training Accuracy: 0.7649, Training F1: 0.8304, Training Kappa: 0.6618\n",
            "Validation Loss: 0.0288, Validation Accuracy: 0.9608, Validation F1: 0.9148, Validation Kappa: 0.8297\n",
            "Epoch: 28, Training Loss: 0.2163, Training Accuracy: 0.7327, Training F1: 0.8013, Training Kappa: 0.6042\n",
            "Validation Loss: 0.0287, Validation Accuracy: 0.9611, Validation F1: 0.9284, Validation Kappa: 0.8569\n",
            "Epoch: 29, Training Loss: 0.1584, Training Accuracy: 0.7252, Training F1: 0.7946, Training Kappa: 0.5910\n",
            "Validation Loss: 0.0306, Validation Accuracy: 0.9683, Validation F1: 0.9227, Validation Kappa: 0.8455\n",
            "Epoch: 30, Training Loss: 0.1336, Training Accuracy: 0.6845, Training F1: 0.7564, Training Kappa: 0.5161\n",
            "Validation Loss: 0.0340, Validation Accuracy: 0.9740, Validation F1: 0.9169, Validation Kappa: 0.8339\n",
            "Epoch: 31, Training Loss: 0.1308, Training Accuracy: 0.7164, Training F1: 0.7862, Training Kappa: 0.5745\n",
            "Validation Loss: 0.0292, Validation Accuracy: 0.9541, Validation F1: 0.9264, Validation Kappa: 0.8527\n",
            "Epoch: 32, Training Loss: 0.3168, Training Accuracy: 0.7327, Training F1: 0.8018, Training Kappa: 0.6052\n",
            "Validation Loss: 0.0286, Validation Accuracy: 0.9725, Validation F1: 0.9289, Validation Kappa: 0.8578\n",
            "Epoch: 33, Training Loss: 0.1510, Training Accuracy: 0.7414, Training F1: 0.8098, Training Kappa: 0.6211\n",
            "Validation Loss: 0.0284, Validation Accuracy: 0.9637, Validation F1: 0.9395, Validation Kappa: 0.8789\n",
            "Model saved for epoch 33.\n",
            "Epoch: 34, Training Loss: 0.0558, Training Accuracy: 0.6861, Training F1: 0.7567, Training Kappa: 0.5167\n",
            "Validation Loss: 0.0310, Validation Accuracy: 0.9700, Validation F1: 0.9296, Validation Kappa: 0.8592\n",
            "Epoch: 35, Training Loss: 0.0352, Training Accuracy: 0.7221, Training F1: 0.7925, Training Kappa: 0.5870\n",
            "Validation Loss: 0.0301, Validation Accuracy: 0.9663, Validation F1: 0.9320, Validation Kappa: 0.8640\n",
            "Epoch: 36, Training Loss: 0.1155, Training Accuracy: 0.7169, Training F1: 0.7870, Training Kappa: 0.5762\n",
            "Validation Loss: 0.0290, Validation Accuracy: 0.9595, Validation F1: 0.9431, Validation Kappa: 0.8863\n",
            "Model saved for epoch 36.\n",
            "Epoch: 37, Training Loss: 0.1045, Training Accuracy: 0.7040, Training F1: 0.7746, Training Kappa: 0.5516\n",
            "Validation Loss: 0.0282, Validation Accuracy: 0.9588, Validation F1: 0.9365, Validation Kappa: 0.8729\n",
            "Epoch: 38, Training Loss: 0.0912, Training Accuracy: 0.7354, Training F1: 0.8056, Training Kappa: 0.6128\n",
            "Validation Loss: 0.0293, Validation Accuracy: 0.9738, Validation F1: 0.9133, Validation Kappa: 0.8267\n",
            "Epoch: 39, Training Loss: 0.1594, Training Accuracy: 0.7249, Training F1: 0.7945, Training Kappa: 0.5908\n",
            "Validation Loss: 0.0261, Validation Accuracy: 0.9506, Validation F1: 0.9216, Validation Kappa: 0.8431\n",
            "Epoch: 40, Training Loss: 0.0364, Training Accuracy: 0.7061, Training F1: 0.7762, Training Kappa: 0.5548\n",
            "Validation Loss: 0.0264, Validation Accuracy: 0.9610, Validation F1: 0.9480, Validation Kappa: 0.8960\n",
            "Model saved for epoch 40.\n",
            "Epoch: 41, Training Loss: 0.1130, Training Accuracy: 0.7404, Training F1: 0.8095, Training Kappa: 0.6206\n",
            "Validation Loss: 0.0260, Validation Accuracy: 0.9602, Validation F1: 0.9494, Validation Kappa: 0.8987\n",
            "Model saved for epoch 41.\n",
            "Epoch: 42, Training Loss: 0.1720, Training Accuracy: 0.6937, Training F1: 0.7655, Training Kappa: 0.5338\n",
            "Validation Loss: 0.0297, Validation Accuracy: 0.9582, Validation F1: 0.9488, Validation Kappa: 0.8975\n",
            "Epoch: 43, Training Loss: 0.1489, Training Accuracy: 0.7370, Training F1: 0.8059, Training Kappa: 0.6134\n",
            "Validation Loss: 0.0275, Validation Accuracy: 0.9664, Validation F1: 0.9431, Validation Kappa: 0.8863\n",
            "Epoch: 44, Training Loss: 0.2155, Training Accuracy: 0.7109, Training F1: 0.7828, Training Kappa: 0.5680\n",
            "Validation Loss: 0.0266, Validation Accuracy: 0.9753, Validation F1: 0.9393, Validation Kappa: 0.8785\n",
            "Epoch: 45, Training Loss: 0.0884, Training Accuracy: 0.7691, Training F1: 0.8335, Training Kappa: 0.6679\n",
            "Validation Loss: 0.0263, Validation Accuracy: 0.9682, Validation F1: 0.9432, Validation Kappa: 0.8864\n",
            "Epoch: 46, Training Loss: 0.0391, Training Accuracy: 0.7490, Training F1: 0.8173, Training Kappa: 0.6360\n",
            "Validation Loss: 0.0260, Validation Accuracy: 0.9726, Validation F1: 0.9388, Validation Kappa: 0.8777\n",
            "Epoch: 47, Training Loss: 0.1315, Training Accuracy: 0.7094, Training F1: 0.7806, Training Kappa: 0.5636\n",
            "Validation Loss: 0.0261, Validation Accuracy: 0.9668, Validation F1: 0.9481, Validation Kappa: 0.8962\n",
            "Epoch: 48, Training Loss: 0.2228, Training Accuracy: 0.6143, Training F1: 0.6731, Training Kappa: 0.3539\n",
            "Validation Loss: 0.0261, Validation Accuracy: 0.9537, Validation F1: 0.9492, Validation Kappa: 0.8983\n",
            "Epoch: 49, Training Loss: 0.1295, Training Accuracy: 0.6936, Training F1: 0.7647, Training Kappa: 0.5322\n",
            "Validation Loss: 0.0266, Validation Accuracy: 0.9471, Validation F1: 0.9414, Validation Kappa: 0.8828\n",
            "Epoch: 50, Training Loss: 0.2599, Training Accuracy: 0.6961, Training F1: 0.7675, Training Kappa: 0.5378\n",
            "Validation Loss: 0.0252, Validation Accuracy: 0.9627, Validation F1: 0.9293, Validation Kappa: 0.8586\n"
          ]
        }
      ]
    },
    {
      "cell_type": "code",
      "source": [
        "SeNum = pd.Series(eNum, name=\"epoch\")\n",
        "St_loss = pd.Series(t_loss, name=\"training_loss\")\n",
        "St_acc = pd.Series(t_acc, name=\"training_accuracy\")\n",
        "St_f1 = pd.Series(t_f1, name=\"training_f1\")\n",
        "St_kappa = pd.Series(t_kappa, name=\"training_kappa\")\n",
        "Sv_loss = pd.Series(v_loss, name=\"val_loss\")\n",
        "Sv_acc = pd.Series(v_acc, name=\"val_accuracy\")\n",
        "Sv_f1 = pd.Series(v_f1, name=\"val_f1\")\n",
        "Sv_kappa = pd.Series(v_kappa, name=\"val_kappa\")\n",
        "resultsDF = pd.concat([SeNum, St_loss, St_acc, St_f1, St_kappa, Sv_loss, Sv_acc, Sv_f1, Sv_kappa], axis=1)"
      ],
      "metadata": {
        "id": "R0OlzvJtUMSR"
      },
      "execution_count": 241,
      "outputs": []
    },
    {
      "cell_type": "code",
      "source": [
        "resultsDF.to_csv(saveFolder+\"resultsTopoDL.csv\")"
      ],
      "metadata": {
        "id": "_L7ILL_3UO1c"
      },
      "execution_count": 242,
      "outputs": []
    },
    {
      "cell_type": "code",
      "source": [
        "resultsDF = pd.read_csv(saveFolder+\"resultsTopoDL.csv\")"
      ],
      "metadata": {
        "id": "O5-bkfa_UTKv"
      },
      "execution_count": 243,
      "outputs": []
    },
    {
      "cell_type": "code",
      "source": [
        "plt.rcParams['figure.figsize'] = [10, 10]\n",
        "firstPlot = resultsDF.plot(x='epoch', y=\"training_loss\")\n",
        "resultsDF.plot(x='epoch', y=\"val_loss\", ax=firstPlot)\n",
        "plt.show()"
      ],
      "metadata": {
        "colab": {
          "base_uri": "https://localhost:8080/",
          "height": 850
        },
        "id": "holGs1CVUTey",
        "outputId": "8a765e3f-5f82-4f89-fa1d-a4d3d62d8f5a"
      },
      "execution_count": 244,
      "outputs": [
        {
          "output_type": "display_data",
          "data": {
            "text/plain": [
              "<Figure size 1000x1000 with 1 Axes>"
            ],
            "image/png": "[encoded data removed]"
          },
          "metadata": {}
        }
      ]
    },
    {
      "cell_type": "code",
      "source": [
        "plt.rcParams['figure.figsize'] = [10, 10]\n",
        "firstPlot = resultsDF.plot(x=\"epoch\", y=\"training_f1\")\n",
        "resultsDF.plot(x='epoch', y=\"val_f1\", ax=firstPlot)\n",
        "plt.show()"
      ],
      "metadata": {
        "colab": {
          "base_uri": "https://localhost:8080/",
          "height": 850
        },
        "id": "ZVi9bC0OUVyx",
        "outputId": "d981d32f-a267-4047-909e-9658ad65e5c8"
      },
      "execution_count": 245,
      "outputs": [
        {
          "output_type": "display_data",
          "data": {
            "text/plain": [
              "<Figure size 1000x1000 with 1 Axes>"
            ],
            "image/png": "[encoded data removed]"
          },
          "metadata": {}
        }
      ]
    },
    {
      "cell_type": "markdown",
      "source": [
        "## TESTING MODEL -> Spatial Predictions"
      ],
      "metadata": {
        "id": "YDYP-2cofLF-"
      }
    },
    {
      "cell_type": "code",
      "source": [
        "model = smp.DeepLabV3Plus(\n",
        "    encoder_name=encoder,\n",
        "    encoder_weights=encoder_weights,\n",
        "    classes=2,\n",
        "    activation=activation,\n",
        ")"
      ],
      "metadata": {
        "id": "KXSVFYy-fPlV"
      },
      "execution_count": 246,
      "outputs": []
    },
    {
      "cell_type": "code",
      "source": [
        "model.encoder.conv1 = nn.Conv2d(12, 64, kernel_size=7, stride=2, padding=3, bias=False)"
      ],
      "metadata": {
        "id": "qosR0S-zfT1V"
      },
      "execution_count": 247,
      "outputs": []
    },
    {
      "cell_type": "code",
      "source": [
        "model = model.to(device)"
      ],
      "metadata": {
        "id": "gqmyHzQvfYVw"
      },
      "execution_count": 248,
      "outputs": []
    },
    {
      "cell_type": "code",
      "source": [
        "model.load_state_dict(torch.load('/content/Albania_model_Dlv3p.pt'))"
      ],
      "metadata": {
        "colab": {
          "base_uri": "https://localhost:8080/"
        },
        "id": "uUk6gzP_fYjY",
        "outputId": "fc357efe-5b3e-4e5c-a206-79f2229194b7"
      },
      "execution_count": 249,
      "outputs": [
        {
          "output_type": "execute_result",
          "data": {
            "text/plain": [
              "<All keys matched successfully>"
            ]
          },
          "metadata": {},
          "execution_count": 249
        }
      ]
    },
    {
      "cell_type": "code",
      "source": [
        "test_dataset = AlbaniaDataset(test, transform=None)"
      ],
      "metadata": {
        "id": "nZIJ4b20fcY2"
      },
      "execution_count": 250,
      "outputs": []
    },
    {
      "cell_type": "code",
      "source": [
        "test_dataloader = DataLoader(test_dataset, batch_size=4, shuffle=True, num_workers=0, drop_last=True)"
      ],
      "metadata": {
        "id": "0tE8yIS6fhzN"
      },
      "execution_count": 251,
      "outputs": []
    },
    {
      "cell_type": "code",
      "source": [
        "acc = tm.Accuracy(task=\"multiclass\", num_classes=2).to(device)\n",
        "f1 = tm.F1Score(task=\"multiclass\", num_classes=2, average='none').to(device)\n",
        "recall = tm.Recall(task=\"multiclass\", num_classes=2, average='none').to(device)\n",
        "precision = tm.Precision(task=\"multiclass\", num_classes=2, average='none').to(device)\n",
        "kappa = tm.CohenKappa(task=\"multiclass\", num_classes=2).to(device)\n",
        "cm = tm.ConfusionMatrix(task=\"multiclass\", num_classes=2).to(device)"
      ],
      "metadata": {
        "id": "LowzWeJvfqRn"
      },
      "execution_count": 252,
      "outputs": []
    },
    {
      "cell_type": "code",
      "source": [
        "model.eval()"
      ],
      "metadata": {
        "colab": {
          "base_uri": "https://localhost:8080/"
        },
        "id": "xeYtZz7qfr_O",
        "outputId": "7ae198f6-35f8-4aeb-f144-e0a24b910e16"
      },
      "execution_count": 253,
      "outputs": [
        {
          "output_type": "execute_result",
          "data": {
            "text/plain": [
              "DeepLabV3Plus(\n",
              "  (encoder): ResNetEncoder(\n",
              "    (conv1): Conv2d(12, 64, kernel_size=(7, 7), stride=(2, 2), padding=(3, 3), bias=False)\n",
              "    (bn1): BatchNorm2d(64, eps=1e-05, momentum=0.1, affine=True, track_running_stats=True)\n",
              "    (relu): ReLU(inplace=True)\n",
              "    (maxpool): MaxPool2d(kernel_size=3, stride=2, padding=1, dilation=1, ceil_mode=False)\n",
              "    (layer1): Sequential(\n",
              "      (0): BasicBlock(\n",
              "        (conv1): Conv2d(64, 64, kernel_size=(3, 3), stride=(1, 1), padding=(1, 1), bias=False)\n",
              "        (bn1): BatchNorm2d(64, eps=1e-05, momentum=0.1, affine=True, track_running_stats=True)\n",
              "        (relu): ReLU(inplace=True)\n",
              "        (conv2): Conv2d(64, 64, kernel_size=(3, 3), stride=(1, 1), padding=(1, 1), bias=False)\n",
              "        (bn2): BatchNorm2d(64, eps=1e-05, momentum=0.1, affine=True, track_running_stats=True)\n",
              "      )\n",
              "      (1): BasicBlock(\n",
              "        (conv1): Conv2d(64, 64, kernel_size=(3, 3), stride=(1, 1), padding=(1, 1), bias=False)\n",
              "        (bn1): BatchNorm2d(64, eps=1e-05, momentum=0.1, affine=True, track_running_stats=True)\n",
              "        (relu): ReLU(inplace=True)\n",
              "        (conv2): Conv2d(64, 64, kernel_size=(3, 3), stride=(1, 1), padding=(1, 1), bias=False)\n",
              "        (bn2): BatchNorm2d(64, eps=1e-05, momentum=0.1, affine=True, track_running_stats=True)\n",
              "      )\n",
              "    )\n",
              "    (layer2): Sequential(\n",
              "      (0): BasicBlock(\n",
              "        (conv1): Conv2d(64, 128, kernel_size=(3, 3), stride=(2, 2), padding=(1, 1), bias=False)\n",
              "        (bn1): BatchNorm2d(128, eps=1e-05, momentum=0.1, affine=True, track_running_stats=True)\n",
              "        (relu): ReLU(inplace=True)\n",
              "        (conv2): Conv2d(128, 128, kernel_size=(3, 3), stride=(1, 1), padding=(1, 1), bias=False)\n",
              "        (bn2): BatchNorm2d(128, eps=1e-05, momentum=0.1, affine=True, track_running_stats=True)\n",
              "        (downsample): Sequential(\n",
              "          (0): Conv2d(64, 128, kernel_size=(1, 1), stride=(2, 2), bias=False)\n",
              "          (1): BatchNorm2d(128, eps=1e-05, momentum=0.1, affine=True, track_running_stats=True)\n",
              "        )\n",
              "      )\n",
              "      (1): BasicBlock(\n",
              "        (conv1): Conv2d(128, 128, kernel_size=(3, 3), stride=(1, 1), padding=(1, 1), bias=False)\n",
              "        (bn1): BatchNorm2d(128, eps=1e-05, momentum=0.1, affine=True, track_running_stats=True)\n",
              "        (relu): ReLU(inplace=True)\n",
              "        (conv2): Conv2d(128, 128, kernel_size=(3, 3), stride=(1, 1), padding=(1, 1), bias=False)\n",
              "        (bn2): BatchNorm2d(128, eps=1e-05, momentum=0.1, affine=True, track_running_stats=True)\n",
              "      )\n",
              "    )\n",
              "    (layer3): Sequential(\n",
              "      (0): BasicBlock(\n",
              "        (conv1): Conv2d(128, 256, kernel_size=(3, 3), stride=(2, 2), padding=(1, 1), bias=False)\n",
              "        (bn1): BatchNorm2d(256, eps=1e-05, momentum=0.1, affine=True, track_running_stats=True)\n",
              "        (relu): ReLU(inplace=True)\n",
              "        (conv2): Conv2d(256, 256, kernel_size=(3, 3), stride=(1, 1), padding=(1, 1), bias=False)\n",
              "        (bn2): BatchNorm2d(256, eps=1e-05, momentum=0.1, affine=True, track_running_stats=True)\n",
              "        (downsample): Sequential(\n",
              "          (0): Conv2d(128, 256, kernel_size=(1, 1), stride=(2, 2), bias=False)\n",
              "          (1): BatchNorm2d(256, eps=1e-05, momentum=0.1, affine=True, track_running_stats=True)\n",
              "        )\n",
              "      )\n",
              "      (1): BasicBlock(\n",
              "        (conv1): Conv2d(256, 256, kernel_size=(3, 3), stride=(1, 1), padding=(1, 1), bias=False)\n",
              "        (bn1): BatchNorm2d(256, eps=1e-05, momentum=0.1, affine=True, track_running_stats=True)\n",
              "        (relu): ReLU(inplace=True)\n",
              "        (conv2): Conv2d(256, 256, kernel_size=(3, 3), stride=(1, 1), padding=(1, 1), bias=False)\n",
              "        (bn2): BatchNorm2d(256, eps=1e-05, momentum=0.1, affine=True, track_running_stats=True)\n",
              "      )\n",
              "    )\n",
              "    (layer4): Sequential(\n",
              "      (0): BasicBlock(\n",
              "        (conv1): Conv2d(256, 512, kernel_size=(3, 3), stride=(1, 1), padding=(2, 2), dilation=(2, 2), bias=False)\n",
              "        (bn1): BatchNorm2d(512, eps=1e-05, momentum=0.1, affine=True, track_running_stats=True)\n",
              "        (relu): ReLU(inplace=True)\n",
              "        (conv2): Conv2d(512, 512, kernel_size=(3, 3), stride=(1, 1), padding=(2, 2), dilation=(2, 2), bias=False)\n",
              "        (bn2): BatchNorm2d(512, eps=1e-05, momentum=0.1, affine=True, track_running_stats=True)\n",
              "        (downsample): Sequential(\n",
              "          (0): Conv2d(256, 512, kernel_size=(1, 1), stride=(1, 1), dilation=(2, 2), bias=False)\n",
              "          (1): BatchNorm2d(512, eps=1e-05, momentum=0.1, affine=True, track_running_stats=True)\n",
              "        )\n",
              "      )\n",
              "      (1): BasicBlock(\n",
              "        (conv1): Conv2d(512, 512, kernel_size=(3, 3), stride=(1, 1), padding=(2, 2), dilation=(2, 2), bias=False)\n",
              "        (bn1): BatchNorm2d(512, eps=1e-05, momentum=0.1, affine=True, track_running_stats=True)\n",
              "        (relu): ReLU(inplace=True)\n",
              "        (conv2): Conv2d(512, 512, kernel_size=(3, 3), stride=(1, 1), padding=(2, 2), dilation=(2, 2), bias=False)\n",
              "        (bn2): BatchNorm2d(512, eps=1e-05, momentum=0.1, affine=True, track_running_stats=True)\n",
              "      )\n",
              "    )\n",
              "  )\n",
              "  (decoder): DeepLabV3PlusDecoder(\n",
              "    (aspp): Sequential(\n",
              "      (0): ASPP(\n",
              "        (convs): ModuleList(\n",
              "          (0): Sequential(\n",
              "            (0): Conv2d(512, 256, kernel_size=(1, 1), stride=(1, 1), bias=False)\n",
              "            (1): BatchNorm2d(256, eps=1e-05, momentum=0.1, affine=True, track_running_stats=True)\n",
              "            (2): ReLU()\n",
              "          )\n",
              "          (1): ASPPSeparableConv(\n",
              "            (0): SeparableConv2d(\n",
              "              (0): Conv2d(512, 512, kernel_size=(3, 3), stride=(1, 1), padding=(12, 12), dilation=(12, 12), groups=512, bias=False)\n",
              "              (1): Conv2d(512, 256, kernel_size=(1, 1), stride=(1, 1), bias=False)\n",
              "            )\n",
              "            (1): BatchNorm2d(256, eps=1e-05, momentum=0.1, affine=True, track_running_stats=True)\n",
              "            (2): ReLU()\n",
              "          )\n",
              "          (2): ASPPSeparableConv(\n",
              "            (0): SeparableConv2d(\n",
              "              (0): Conv2d(512, 512, kernel_size=(3, 3), stride=(1, 1), padding=(24, 24), dilation=(24, 24), groups=512, bias=False)\n",
              "              (1): Conv2d(512, 256, kernel_size=(1, 1), stride=(1, 1), bias=False)\n",
              "            )\n",
              "            (1): BatchNorm2d(256, eps=1e-05, momentum=0.1, affine=True, track_running_stats=True)\n",
              "            (2): ReLU()\n",
              "          )\n",
              "          (3): ASPPSeparableConv(\n",
              "            (0): SeparableConv2d(\n",
              "              (0): Conv2d(512, 512, kernel_size=(3, 3), stride=(1, 1), padding=(36, 36), dilation=(36, 36), groups=512, bias=False)\n",
              "              (1): Conv2d(512, 256, kernel_size=(1, 1), stride=(1, 1), bias=False)\n",
              "            )\n",
              "            (1): BatchNorm2d(256, eps=1e-05, momentum=0.1, affine=True, track_running_stats=True)\n",
              "            (2): ReLU()\n",
              "          )\n",
              "          (4): ASPPPooling(\n",
              "            (0): AdaptiveAvgPool2d(output_size=1)\n",
              "            (1): Conv2d(512, 256, kernel_size=(1, 1), stride=(1, 1), bias=False)\n",
              "            (2): BatchNorm2d(256, eps=1e-05, momentum=0.1, affine=True, track_running_stats=True)\n",
              "            (3): ReLU()\n",
              "          )\n",
              "        )\n",
              "        (project): Sequential(\n",
              "          (0): Conv2d(1280, 256, kernel_size=(1, 1), stride=(1, 1), bias=False)\n",
              "          (1): BatchNorm2d(256, eps=1e-05, momentum=0.1, affine=True, track_running_stats=True)\n",
              "          (2): ReLU()\n",
              "          (3): Dropout(p=0.5, inplace=False)\n",
              "        )\n",
              "      )\n",
              "      (1): SeparableConv2d(\n",
              "        (0): Conv2d(256, 256, kernel_size=(3, 3), stride=(1, 1), padding=(1, 1), groups=256, bias=False)\n",
              "        (1): Conv2d(256, 256, kernel_size=(1, 1), stride=(1, 1), bias=False)\n",
              "      )\n",
              "      (2): BatchNorm2d(256, eps=1e-05, momentum=0.1, affine=True, track_running_stats=True)\n",
              "      (3): ReLU()\n",
              "    )\n",
              "    (up): UpsamplingBilinear2d(scale_factor=4.0, mode='bilinear')\n",
              "    (block1): Sequential(\n",
              "      (0): Conv2d(64, 48, kernel_size=(1, 1), stride=(1, 1), bias=False)\n",
              "      (1): BatchNorm2d(48, eps=1e-05, momentum=0.1, affine=True, track_running_stats=True)\n",
              "      (2): ReLU()\n",
              "    )\n",
              "    (block2): Sequential(\n",
              "      (0): SeparableConv2d(\n",
              "        (0): Conv2d(304, 304, kernel_size=(3, 3), stride=(1, 1), padding=(1, 1), groups=304, bias=False)\n",
              "        (1): Conv2d(304, 256, kernel_size=(1, 1), stride=(1, 1), bias=False)\n",
              "      )\n",
              "      (1): BatchNorm2d(256, eps=1e-05, momentum=0.1, affine=True, track_running_stats=True)\n",
              "      (2): ReLU()\n",
              "    )\n",
              "  )\n",
              "  (segmentation_head): SegmentationHead(\n",
              "    (0): Conv2d(256, 2, kernel_size=(1, 1), stride=(1, 1))\n",
              "    (1): UpsamplingBilinear2d(scale_factor=4.0, mode='bilinear')\n",
              "    (2): Activation(\n",
              "      (activation): Identity()\n",
              "    )\n",
              "  )\n",
              ")"
            ]
          },
          "metadata": {},
          "execution_count": 253
        }
      ]
    },
    {
      "cell_type": "code",
      "source": [
        "with torch.no_grad():\n",
        "    for batch_idx, (inputs, targets) in enumerate(test_dataloader):\n",
        "        inputs, targets = inputs.to(device), targets.to(device)\n",
        "        outputs = model(inputs)\n",
        "        #loss_v = criterion(outputs, targets)\n",
        "        accV = acc(outputs, targets)\n",
        "        f1V = f1(outputs, targets)\n",
        "        rV = recall(outputs, targets)\n",
        "        pV = precision(outputs, targets)\n",
        "        kappaV = kappa(outputs, targets)\n",
        "        cmV = cm(outputs, targets)\n",
        "accV = acc.compute()\n",
        "f1V = f1.compute()\n",
        "rV = recall.compute()\n",
        "pV = precision.compute()\n",
        "kappaV = kappa.compute()\n",
        "cmV = cm.compute()\n",
        "acc.reset()\n",
        "f1.reset()\n",
        "recall.reset()\n",
        "precision.reset()\n",
        "kappa.reset()\n",
        "cm.reset()"
      ],
      "metadata": {
        "id": "jnAiKcAJftjj"
      },
      "execution_count": 254,
      "outputs": []
    },
    {
      "cell_type": "code",
      "source": [
        "print(accV)"
      ],
      "metadata": {
        "colab": {
          "base_uri": "https://localhost:8080/"
        },
        "id": "jZFAFL7kfxTU",
        "outputId": "4ad0a2c6-107a-40f6-a54e-2a15aaadda42"
      },
      "execution_count": 255,
      "outputs": [
        {
          "output_type": "stream",
          "name": "stdout",
          "text": [
            "tensor(0.9910, device='cuda:0')\n"
          ]
        }
      ]
    },
    {
      "cell_type": "code",
      "source": [
        "print(f1V)"
      ],
      "metadata": {
        "colab": {
          "base_uri": "https://localhost:8080/"
        },
        "id": "GIb9e41sf2ig",
        "outputId": "16af311c-8cf1-43fc-933d-1b193c19d7dc"
      },
      "execution_count": 256,
      "outputs": [
        {
          "output_type": "stream",
          "name": "stdout",
          "text": [
            "tensor([0.9952, 0.9095], device='cuda:0')\n"
          ]
        }
      ]
    },
    {
      "cell_type": "code",
      "source": [
        "print(rV)"
      ],
      "metadata": {
        "colab": {
          "base_uri": "https://localhost:8080/"
        },
        "id": "D6xSACvbf4RN",
        "outputId": "c95ddb8d-20fe-49bd-a2ee-f52a9be57626"
      },
      "execution_count": 257,
      "outputs": [
        {
          "output_type": "stream",
          "name": "stdout",
          "text": [
            "tensor([0.9937, 0.9376], device='cuda:0')\n"
          ]
        }
      ]
    },
    {
      "cell_type": "code",
      "source": [
        "print(pV)"
      ],
      "metadata": {
        "colab": {
          "base_uri": "https://localhost:8080/"
        },
        "id": "gUDBx09Wf5bB",
        "outputId": "d50eca7e-c3e4-4a24-abba-2015e692a1d7"
      },
      "execution_count": 258,
      "outputs": [
        {
          "output_type": "stream",
          "name": "stdout",
          "text": [
            "tensor([0.9968, 0.8831], device='cuda:0')\n"
          ]
        }
      ]
    },
    {
      "cell_type": "code",
      "source": [
        "print(kappaV)"
      ],
      "metadata": {
        "colab": {
          "base_uri": "https://localhost:8080/"
        },
        "id": "_ukaEKBvf6yY",
        "outputId": "674007a1-9a10-4e38-9f5f-49b4bee0cb6a"
      },
      "execution_count": 259,
      "outputs": [
        {
          "output_type": "stream",
          "name": "stdout",
          "text": [
            "tensor(0.9048, device='cuda:0')\n"
          ]
        }
      ]
    },
    {
      "cell_type": "code",
      "source": [
        "print(cmV)"
      ],
      "metadata": {
        "colab": {
          "base_uri": "https://localhost:8080/"
        },
        "id": "c4qhJJqWf8NF",
        "outputId": "c0661c1c-b871-4a9d-fd89-a00e9cfc7210"
      },
      "execution_count": 262,
      "outputs": [
        {
          "output_type": "stream",
          "name": "stdout",
          "text": [
            "tensor([[991470,   6305],\n",
            "        [  3170,  47631]], device='cuda:0')\n"
          ]
        }
      ]
    },
    {
      "cell_type": "markdown",
      "source": [
        "TEST"
      ],
      "metadata": {
        "id": "Dx_k-OBaghSQ"
      }
    },
    {
      "cell_type": "code",
      "source": [
        "testImg = '/content/Albania3_2018-06-24.tiff'"
      ],
      "metadata": {
        "id": "SVsxVb5egi2z"
      },
      "execution_count": 278,
      "outputs": []
    },
    {
      "cell_type": "code",
      "source": [
        "def geoInfer(image_in, pred_out, chip_size, stride_x, stride_y, crop, n_channels):\n",
        "\n",
        "    # Reading raster image\n",
        "\n",
        "    image_source = rio.open(image_in)\n",
        "    image1 = image_source.read()\n",
        "    image_source.close\n",
        "    image1 = image1[[1,2,3,4,5,6,7,8,9,10,11,12],:,:]\n",
        "    image1 = image1.astype('float32')\n",
        "    image1 = torch.from_numpy(image1)\n",
        "    image1 = image1.float()/255\n",
        "    t_arr = image1\n",
        "\n",
        "    # Bland raster image\n",
        "\n",
        "    image_source_2 = rio.open(image_in)\n",
        "    image2 = image_source_2.read()\n",
        "    image_source_2.close\n",
        "    image2 = image2[[1,2,3,4,5,6,7,8,9,10,11,12],:,:]\n",
        "    image2 = image2.astype('float32')\n",
        "    image2 = torch.from_numpy(image2)\n",
        "    image2 = image2.float()/255\n",
        "    p_arr = image2[0, :, :]\n",
        "    p_arr[:,:] = 0\n",
        "\n",
        "    #Predict to entire topo using overlapping chips, merge back to original extent=============\n",
        "    size = chip_size\n",
        "    stride_x = stride_x\n",
        "    stride_y = stride_y\n",
        "    crop = crop\n",
        "    n_channels = n_channels\n",
        "\n",
        "    across_cnt = t_arr.shape[2]\n",
        "    down_cnt = t_arr.shape[1]\n",
        "    tile_size_across = size\n",
        "    tile_size_down = size\n",
        "    overlap_across = stride_x\n",
        "    overlap_down = stride_y\n",
        "    across = math.ceil(across_cnt/overlap_across)\n",
        "    down = math.ceil(down_cnt/overlap_down)\n",
        "    across_seq = list(range(0, across, 1))\n",
        "    down_seq = list(range(0, down, 1))\n",
        "    across_seq2 = [(x*overlap_across) for x in across_seq]\n",
        "    down_seq2 = [(x*overlap_down) for x in down_seq]\n",
        "    #Loop through row/column combinations to make predictions for entire image\n",
        "    for c in across_seq2:\n",
        "        for r in down_seq2:\n",
        "            c1 = c\n",
        "            r1 = r\n",
        "            c2 = c + size\n",
        "            r2 = r + size\n",
        "            #Default\n",
        "            if c2 <= across_cnt and r2 <= down_cnt:\n",
        "                r1b = r1\n",
        "                r2b = r2\n",
        "                c1b = c1\n",
        "                c2b = c2\n",
        "            #Last column\n",
        "            elif c2 > across_cnt and r2 <= down_cnt:\n",
        "                r1b = r1\n",
        "                r2b = r2\n",
        "                c1b = across_cnt - size\n",
        "                c2b = across_cnt + 1\n",
        "            #Last row\n",
        "            elif c2 <= across_cnt and r2 > down_cnt:\n",
        "                r1b = down_cnt - size\n",
        "                r2b = down_cnt + 1\n",
        "                c1b = c1\n",
        "                c2b = c2\n",
        "            #Last row, last column\n",
        "            else:\n",
        "                c1b = across_cnt - size\n",
        "                c2b = across_cnt + 1\n",
        "                r1b = down_cnt - size\n",
        "                r2b = down_cnt + 1\n",
        "            ten1 = t_arr[0:n_channels, r1b:r2b, c1b:c2b]\n",
        "            ten1 = ten1.to(device).unsqueeze(0)\n",
        "            model.eval()\n",
        "            with torch.no_grad():\n",
        "              ten2 = model(ten1)\n",
        "            m = nn.Softmax(dim=1)\n",
        "            pr_probs = m(ten2)\n",
        "            ten_p = torch.argmax(pr_probs, dim=1).squeeze(1)\n",
        "            ten_p = ten_p.squeeze()\n",
        "            #print(\"executed for \" + str(r1) + \", \" + str(c1))\n",
        "            if(r1b == 0 and c1b == 0): #Write first row, first column\n",
        "                p_arr[r1b:r2b-crop, c1b:c2b-crop] = ten_p[0:size-crop, 0:size-crop]\n",
        "            elif(r1b == 0 and c2b == across_cnt+1): #Write first row, last column\n",
        "                p_arr[r1b:r2b-crop, c1b+crop:c2b] = ten_p[0:size-crop, 0+crop:size]\n",
        "            elif(r2b == down_cnt+1 and c1b == 0): #Write last row, first column\n",
        "                p_arr[r1b+crop:r2b, c1b:c2b-crop] = ten_p[crop:size+1, 0:size-crop]\n",
        "            elif(r2b == down_cnt+1 and c2b == across_cnt+1): #Write last row, last column\n",
        "                p_arr[r1b+crop:r2b, c1b+crop:c2b] = ten_p[crop:size, 0+crop:size+1]\n",
        "            elif((r1b == 0 and c1b != 0) or (r1b == 0 and c2b != across_cnt+1)): #Write first row\n",
        "                p_arr[r1b:r2b-crop, c1b+crop:c2b-crop] = ten_p[0:size-crop, 0+crop:size-crop]\n",
        "            elif((r2b == down_cnt+1 and c1b != 0) or (r2b == down_cnt+1 and c2b != across_cnt+1)): # Write last row\n",
        "                p_arr[r1b+crop:r2b, c1b+crop:c2b-crop] = ten_p[crop:size, 0+crop:size-crop]\n",
        "            elif((c1b == 0 and r1b !=0) or (c1b ==0 and r2b != down_cnt+1)): #Write first column\n",
        "                p_arr[r1b+crop:r2b-crop, c1b:c2b-crop] = ten_p[crop:size-crop, 0:size-crop]\n",
        "            elif (c2b == across_cnt+1 and r1b != 0) or (c2b == across_cnt+1 and r2b != down_cnt+1): # write last column\n",
        "                p_arr[r1b+crop:r2b-crop, c1b+crop:c2b] = ten_p[crop:size-crop, 0+crop:size]\n",
        "            else: #Write middle chips\n",
        "                p_arr[r1b+crop:r2b-crop, c1b+crop:c2b-crop] = ten_p[crop:size-crop, crop:size-crop]\n",
        "\n",
        "    #Read in a GeoTIFF to get CRS info=======================================\n",
        "    image3 = rio.open(image_in)\n",
        "    profile1 = image3.profile.copy()\n",
        "    image3.close()\n",
        "    profile1[\"driver\"] = \"GTiff\"\n",
        "    profile1[\"dtype\"] = \"uint8\"\n",
        "    profile1[\"count\"] = 1\n",
        "    profile1[\"PHOTOMETRIC\"] = \"MINISBLACK\"\n",
        "    profile1[\"COMPRESS\"] = \"NONE\"\n",
        "\n",
        "    pr_out = p_arr.cpu().numpy().round().astype('uint8')\n",
        "\n",
        "    #Write out result========================================================\n",
        "    with rio.open(pred_out, \"w\", **profile1) as f:\n",
        "        f.write(pr_out,1)\n",
        "\n",
        "    torch.cuda.empty_cache()"
      ],
      "metadata": {
        "id": "x8pOGCIkeFrO"
      },
      "execution_count": 279,
      "outputs": []
    },
    {
      "cell_type": "code",
      "source": [
        "geoInfer(image_in=testImg,\n",
        "    pred_out=saveFolder + \"predicted_mask.tif\",\n",
        "    chip_size=256, stride_x=128, stride_y=128, crop=50, n_channels=12)"
      ],
      "metadata": {
        "id": "KV5fhU0rgQ3r"
      },
      "execution_count": 280,
      "outputs": []
    }
  ]
}